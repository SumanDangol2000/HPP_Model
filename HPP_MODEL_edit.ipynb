{
 "cells": [
  {
   "cell_type": "code",
   "execution_count": 1,
   "id": "f831c047",
   "metadata": {},
   "outputs": [],
   "source": [
    "import pandas as pd\n",
    "import json\n",
    "import numpy as np \n",
    "import seaborn as sns\n",
    "from sklearn.model_selection import train_test_split, cross_val_score, KFold\n",
    "from sklearn.ensemble import RandomForestRegressor, GradientBoostingRegressor\n",
    "from sklearn.linear_model import LinearRegression, Lasso, Ridge\n",
    "from sklearn.svm import SVR\n",
    "from sklearn.neighbors import KNeighborsRegressor\n",
    "from sklearn import metrics\n",
    "from sklearn.metrics import accuracy_score\n",
    "from imblearn.over_sampling import SMOTE\n",
    "from sklearn.preprocessing import StandardScaler\n",
    "\n",
    "import re\n",
    "from collections import Counter"
   ]
  },
  {
   "cell_type": "code",
   "execution_count": 2,
   "id": "4dc84b41",
   "metadata": {},
   "outputs": [],
   "source": [
    "pd.set_option('display.max_columns', None)"
   ]
  },
  {
   "cell_type": "code",
   "execution_count": 3,
   "id": "1358cbf8",
   "metadata": {},
   "outputs": [
    {
     "data": {
      "text/plain": [
       "(3418, 13)"
      ]
     },
     "execution_count": 3,
     "metadata": {},
     "output_type": "execute_result"
    }
   ],
   "source": [
    "ds = pd.read_csv(\"house_dataset_edit.csv\")\n",
    "ds.shape"
   ]
  },
  {
   "cell_type": "code",
   "execution_count": 4,
   "id": "952a49ec",
   "metadata": {},
   "outputs": [
    {
     "data": {
      "text/html": [
       "<div>\n",
       "<style scoped>\n",
       "    .dataframe tbody tr th:only-of-type {\n",
       "        vertical-align: middle;\n",
       "    }\n",
       "\n",
       "    .dataframe tbody tr th {\n",
       "        vertical-align: top;\n",
       "    }\n",
       "\n",
       "    .dataframe thead th {\n",
       "        text-align: right;\n",
       "    }\n",
       "</style>\n",
       "<table border=\"1\" class=\"dataframe\">\n",
       "  <thead>\n",
       "    <tr style=\"text-align: right;\">\n",
       "      <th></th>\n",
       "      <th>TITLE</th>\n",
       "      <th>LOCATION</th>\n",
       "      <th>PRICE</th>\n",
       "      <th>LAND AREA</th>\n",
       "      <th>BUILDUP AREA</th>\n",
       "      <th>ROAD ACCESS</th>\n",
       "      <th>FACING</th>\n",
       "      <th>FLOOR</th>\n",
       "      <th>BEDROOM</th>\n",
       "      <th>BATHROOM</th>\n",
       "      <th>BUILT YEAR</th>\n",
       "      <th>PARKING</th>\n",
       "      <th>AMENITIES</th>\n",
       "    </tr>\n",
       "  </thead>\n",
       "  <tbody>\n",
       "    <tr>\n",
       "      <th>0</th>\n",
       "      <td>House for Sale</td>\n",
       "      <td>Imadol, Lalitpur</td>\n",
       "      <td>Rs. 2.9 Cr</td>\n",
       "      <td>4.0 aana</td>\n",
       "      <td>NaN</td>\n",
       "      <td>12 Feet</td>\n",
       "      <td>West</td>\n",
       "      <td>3.0</td>\n",
       "      <td>5.0</td>\n",
       "      <td>4.0</td>\n",
       "      <td>2076 B.S</td>\n",
       "      <td>1 CaRs.  &amp; 2 Bikes</td>\n",
       "      <td>['Earthquake Resistant', 'Marbel', 'Parquet', ...</td>\n",
       "    </tr>\n",
       "    <tr>\n",
       "      <th>1</th>\n",
       "      <td>House for Sale</td>\n",
       "      <td>Satdobato, Lalitpur</td>\n",
       "      <td>Rs. 4.75 Cr</td>\n",
       "      <td>3.0 aana</td>\n",
       "      <td>NaN</td>\n",
       "      <td>10 Feet</td>\n",
       "      <td>West</td>\n",
       "      <td>4.5</td>\n",
       "      <td>5.0</td>\n",
       "      <td>6.0</td>\n",
       "      <td>2076 B.S</td>\n",
       "      <td>2 CaRs.  &amp; 2 Bikes</td>\n",
       "      <td>['Earthquake Resistant', 'Parquet', 'Drinking ...</td>\n",
       "    </tr>\n",
       "    <tr>\n",
       "      <th>2</th>\n",
       "      <td>4 BHK House for Sale</td>\n",
       "      <td>Imadol, Lalitpur</td>\n",
       "      <td>Rs. 1.99 Cr</td>\n",
       "      <td>2.3 aana</td>\n",
       "      <td>NaN</td>\n",
       "      <td>10 Feet</td>\n",
       "      <td>West</td>\n",
       "      <td>2.5</td>\n",
       "      <td>4.0</td>\n",
       "      <td>4.0</td>\n",
       "      <td>2060 B.S</td>\n",
       "      <td>1 CaRs.  &amp; 3 Bikes</td>\n",
       "      <td>['Earthquake Resistant', 'Marbel', 'Parquet', ...</td>\n",
       "    </tr>\n",
       "    <tr>\n",
       "      <th>3</th>\n",
       "      <td>Bungalow House for Sale</td>\n",
       "      <td>Bhaisepati, Lalitpur</td>\n",
       "      <td>Rs. 4 Cr</td>\n",
       "      <td>7.0 aana</td>\n",
       "      <td>NaN</td>\n",
       "      <td>12 Feet</td>\n",
       "      <td>North-West</td>\n",
       "      <td>2.5</td>\n",
       "      <td>4.0</td>\n",
       "      <td>3.0</td>\n",
       "      <td>2059 B.S</td>\n",
       "      <td>4 CaRs.  &amp; 4 Bikes</td>\n",
       "      <td>['Earthquake Resistant', 'Marbel', 'Parquet', ...</td>\n",
       "    </tr>\n",
       "    <tr>\n",
       "      <th>4</th>\n",
       "      <td>House for Rent</td>\n",
       "      <td>Maharajgunj, Kathmandu</td>\n",
       "      <td>Rs. 12000000</td>\n",
       "      <td>6.0 aana</td>\n",
       "      <td>NaN</td>\n",
       "      <td>20 Feet</td>\n",
       "      <td>South</td>\n",
       "      <td>2.0</td>\n",
       "      <td>4.0</td>\n",
       "      <td>4.0</td>\n",
       "      <td>2071 B.S</td>\n",
       "      <td>4 CaRs.  &amp; 5 Bikes</td>\n",
       "      <td>['Earthquake Resistant', 'Parquet', 'Parking',...</td>\n",
       "    </tr>\n",
       "  </tbody>\n",
       "</table>\n",
       "</div>"
      ],
      "text/plain": [
       "                     TITLE                LOCATION         PRICE LAND AREA  \\\n",
       "0           House for Sale        Imadol, Lalitpur   Rs. 2.9 Cr   4.0 aana   \n",
       "1           House for Sale     Satdobato, Lalitpur  Rs. 4.75 Cr   3.0 aana   \n",
       "2     4 BHK House for Sale        Imadol, Lalitpur  Rs. 1.99 Cr   2.3 aana   \n",
       "3  Bungalow House for Sale    Bhaisepati, Lalitpur     Rs. 4 Cr   7.0 aana   \n",
       "4           House for Rent  Maharajgunj, Kathmandu  Rs. 12000000  6.0 aana   \n",
       "\n",
       "  BUILDUP AREA ROAD ACCESS      FACING  FLOOR  BEDROOM  BATHROOM BUILT YEAR  \\\n",
       "0          NaN     12 Feet        West    3.0      5.0       4.0   2076 B.S   \n",
       "1          NaN     10 Feet        West    4.5      5.0       6.0   2076 B.S   \n",
       "2          NaN     10 Feet        West    2.5      4.0       4.0   2060 B.S   \n",
       "3          NaN     12 Feet  North-West    2.5      4.0       3.0   2059 B.S   \n",
       "4          NaN     20 Feet       South    2.0      4.0       4.0   2071 B.S   \n",
       "\n",
       "              PARKING                                          AMENITIES  \n",
       "0  1 CaRs.  & 2 Bikes  ['Earthquake Resistant', 'Marbel', 'Parquet', ...  \n",
       "1  2 CaRs.  & 2 Bikes  ['Earthquake Resistant', 'Parquet', 'Drinking ...  \n",
       "2  1 CaRs.  & 3 Bikes  ['Earthquake Resistant', 'Marbel', 'Parquet', ...  \n",
       "3  4 CaRs.  & 4 Bikes  ['Earthquake Resistant', 'Marbel', 'Parquet', ...  \n",
       "4  4 CaRs.  & 5 Bikes  ['Earthquake Resistant', 'Parquet', 'Parking',...  "
      ]
     },
     "execution_count": 4,
     "metadata": {},
     "output_type": "execute_result"
    }
   ],
   "source": [
    "ds.head()"
   ]
  },
  {
   "cell_type": "code",
   "execution_count": 5,
   "id": "51754b03",
   "metadata": {},
   "outputs": [
    {
     "data": {
      "text/html": [
       "<div>\n",
       "<style scoped>\n",
       "    .dataframe tbody tr th:only-of-type {\n",
       "        vertical-align: middle;\n",
       "    }\n",
       "\n",
       "    .dataframe tbody tr th {\n",
       "        vertical-align: top;\n",
       "    }\n",
       "\n",
       "    .dataframe thead th {\n",
       "        text-align: right;\n",
       "    }\n",
       "</style>\n",
       "<table border=\"1\" class=\"dataframe\">\n",
       "  <thead>\n",
       "    <tr style=\"text-align: right;\">\n",
       "      <th></th>\n",
       "      <th>FLOOR</th>\n",
       "      <th>BEDROOM</th>\n",
       "      <th>BATHROOM</th>\n",
       "    </tr>\n",
       "  </thead>\n",
       "  <tbody>\n",
       "    <tr>\n",
       "      <th>count</th>\n",
       "      <td>3323.000000</td>\n",
       "      <td>3136.000000</td>\n",
       "      <td>3072.000000</td>\n",
       "    </tr>\n",
       "    <tr>\n",
       "      <th>mean</th>\n",
       "      <td>2.668492</td>\n",
       "      <td>5.399235</td>\n",
       "      <td>4.187826</td>\n",
       "    </tr>\n",
       "    <tr>\n",
       "      <th>std</th>\n",
       "      <td>0.726047</td>\n",
       "      <td>3.148436</td>\n",
       "      <td>2.674617</td>\n",
       "    </tr>\n",
       "    <tr>\n",
       "      <th>min</th>\n",
       "      <td>1.000000</td>\n",
       "      <td>1.000000</td>\n",
       "      <td>1.000000</td>\n",
       "    </tr>\n",
       "    <tr>\n",
       "      <th>25%</th>\n",
       "      <td>2.500000</td>\n",
       "      <td>4.000000</td>\n",
       "      <td>3.000000</td>\n",
       "    </tr>\n",
       "    <tr>\n",
       "      <th>50%</th>\n",
       "      <td>2.500000</td>\n",
       "      <td>5.000000</td>\n",
       "      <td>4.000000</td>\n",
       "    </tr>\n",
       "    <tr>\n",
       "      <th>75%</th>\n",
       "      <td>2.500000</td>\n",
       "      <td>6.000000</td>\n",
       "      <td>5.000000</td>\n",
       "    </tr>\n",
       "    <tr>\n",
       "      <th>max</th>\n",
       "      <td>8.000000</td>\n",
       "      <td>100.000000</td>\n",
       "      <td>100.000000</td>\n",
       "    </tr>\n",
       "  </tbody>\n",
       "</table>\n",
       "</div>"
      ],
      "text/plain": [
       "             FLOOR      BEDROOM     BATHROOM\n",
       "count  3323.000000  3136.000000  3072.000000\n",
       "mean      2.668492     5.399235     4.187826\n",
       "std       0.726047     3.148436     2.674617\n",
       "min       1.000000     1.000000     1.000000\n",
       "25%       2.500000     4.000000     3.000000\n",
       "50%       2.500000     5.000000     4.000000\n",
       "75%       2.500000     6.000000     5.000000\n",
       "max       8.000000   100.000000   100.000000"
      ]
     },
     "execution_count": 5,
     "metadata": {},
     "output_type": "execute_result"
    }
   ],
   "source": [
    "ds.describe()"
   ]
  },
  {
   "cell_type": "code",
   "execution_count": 6,
   "id": "e151054e",
   "metadata": {},
   "outputs": [
    {
     "data": {
      "text/plain": [
       "TITLE           3418\n",
       "LOCATION        3418\n",
       "PRICE           3418\n",
       "LAND AREA       3329\n",
       "BUILDUP AREA     719\n",
       "ROAD ACCESS     3409\n",
       "FACING          3212\n",
       "FLOOR           3323\n",
       "BEDROOM         3136\n",
       "BATHROOM        3072\n",
       "BUILT YEAR      3357\n",
       "PARKING          632\n",
       "AMENITIES       3418\n",
       "dtype: int64"
      ]
     },
     "execution_count": 6,
     "metadata": {},
     "output_type": "execute_result"
    }
   ],
   "source": [
    "ds.count()"
   ]
  },
  {
   "cell_type": "markdown",
   "id": "f4fde1d7",
   "metadata": {},
   "source": [
    "# Parking "
   ]
  },
  {
   "cell_type": "code",
   "execution_count": 7,
   "id": "35cd5f0b",
   "metadata": {},
   "outputs": [],
   "source": [
    "# Check if there is parking facility or not if yes 1 esle 0\n",
    "ds['AMENITY_PARKING'] = ds.apply(lambda row: 1 if pd.notnull(row['PARKING']) or ('Parking' in row['AMENITIES'] if isinstance(row['AMENITIES'], str) else False) else 0, axis=1)\n"
   ]
  },
  {
   "cell_type": "code",
   "execution_count": 8,
   "id": "41ecfbda",
   "metadata": {},
   "outputs": [
    {
     "data": {
      "text/html": [
       "<div>\n",
       "<style scoped>\n",
       "    .dataframe tbody tr th:only-of-type {\n",
       "        vertical-align: middle;\n",
       "    }\n",
       "\n",
       "    .dataframe tbody tr th {\n",
       "        vertical-align: top;\n",
       "    }\n",
       "\n",
       "    .dataframe thead th {\n",
       "        text-align: right;\n",
       "    }\n",
       "</style>\n",
       "<table border=\"1\" class=\"dataframe\">\n",
       "  <thead>\n",
       "    <tr style=\"text-align: right;\">\n",
       "      <th></th>\n",
       "      <th>TITLE</th>\n",
       "      <th>LOCATION</th>\n",
       "      <th>PRICE</th>\n",
       "      <th>LAND AREA</th>\n",
       "      <th>BUILDUP AREA</th>\n",
       "      <th>ROAD ACCESS</th>\n",
       "      <th>FACING</th>\n",
       "      <th>FLOOR</th>\n",
       "      <th>BEDROOM</th>\n",
       "      <th>BATHROOM</th>\n",
       "      <th>BUILT YEAR</th>\n",
       "      <th>PARKING</th>\n",
       "      <th>AMENITIES</th>\n",
       "      <th>AMENITY_PARKING</th>\n",
       "    </tr>\n",
       "  </thead>\n",
       "  <tbody>\n",
       "    <tr>\n",
       "      <th>0</th>\n",
       "      <td>House for Sale</td>\n",
       "      <td>Imadol, Lalitpur</td>\n",
       "      <td>Rs. 2.9 Cr</td>\n",
       "      <td>4.0 aana</td>\n",
       "      <td>NaN</td>\n",
       "      <td>12 Feet</td>\n",
       "      <td>West</td>\n",
       "      <td>3.0</td>\n",
       "      <td>5.0</td>\n",
       "      <td>4.0</td>\n",
       "      <td>2076 B.S</td>\n",
       "      <td>1 CaRs.  &amp; 2 Bikes</td>\n",
       "      <td>['Earthquake Resistant', 'Marbel', 'Parquet', ...</td>\n",
       "      <td>1</td>\n",
       "    </tr>\n",
       "    <tr>\n",
       "      <th>1</th>\n",
       "      <td>House for Sale</td>\n",
       "      <td>Satdobato, Lalitpur</td>\n",
       "      <td>Rs. 4.75 Cr</td>\n",
       "      <td>3.0 aana</td>\n",
       "      <td>NaN</td>\n",
       "      <td>10 Feet</td>\n",
       "      <td>West</td>\n",
       "      <td>4.5</td>\n",
       "      <td>5.0</td>\n",
       "      <td>6.0</td>\n",
       "      <td>2076 B.S</td>\n",
       "      <td>2 CaRs.  &amp; 2 Bikes</td>\n",
       "      <td>['Earthquake Resistant', 'Parquet', 'Drinking ...</td>\n",
       "      <td>1</td>\n",
       "    </tr>\n",
       "    <tr>\n",
       "      <th>2</th>\n",
       "      <td>4 BHK House for Sale</td>\n",
       "      <td>Imadol, Lalitpur</td>\n",
       "      <td>Rs. 1.99 Cr</td>\n",
       "      <td>2.3 aana</td>\n",
       "      <td>NaN</td>\n",
       "      <td>10 Feet</td>\n",
       "      <td>West</td>\n",
       "      <td>2.5</td>\n",
       "      <td>4.0</td>\n",
       "      <td>4.0</td>\n",
       "      <td>2060 B.S</td>\n",
       "      <td>1 CaRs.  &amp; 3 Bikes</td>\n",
       "      <td>['Earthquake Resistant', 'Marbel', 'Parquet', ...</td>\n",
       "      <td>1</td>\n",
       "    </tr>\n",
       "    <tr>\n",
       "      <th>3</th>\n",
       "      <td>Bungalow House for Sale</td>\n",
       "      <td>Bhaisepati, Lalitpur</td>\n",
       "      <td>Rs. 4 Cr</td>\n",
       "      <td>7.0 aana</td>\n",
       "      <td>NaN</td>\n",
       "      <td>12 Feet</td>\n",
       "      <td>North-West</td>\n",
       "      <td>2.5</td>\n",
       "      <td>4.0</td>\n",
       "      <td>3.0</td>\n",
       "      <td>2059 B.S</td>\n",
       "      <td>4 CaRs.  &amp; 4 Bikes</td>\n",
       "      <td>['Earthquake Resistant', 'Marbel', 'Parquet', ...</td>\n",
       "      <td>1</td>\n",
       "    </tr>\n",
       "    <tr>\n",
       "      <th>4</th>\n",
       "      <td>House for Rent</td>\n",
       "      <td>Maharajgunj, Kathmandu</td>\n",
       "      <td>Rs. 12000000</td>\n",
       "      <td>6.0 aana</td>\n",
       "      <td>NaN</td>\n",
       "      <td>20 Feet</td>\n",
       "      <td>South</td>\n",
       "      <td>2.0</td>\n",
       "      <td>4.0</td>\n",
       "      <td>4.0</td>\n",
       "      <td>2071 B.S</td>\n",
       "      <td>4 CaRs.  &amp; 5 Bikes</td>\n",
       "      <td>['Earthquake Resistant', 'Parquet', 'Parking',...</td>\n",
       "      <td>1</td>\n",
       "    </tr>\n",
       "  </tbody>\n",
       "</table>\n",
       "</div>"
      ],
      "text/plain": [
       "                     TITLE                LOCATION         PRICE LAND AREA  \\\n",
       "0           House for Sale        Imadol, Lalitpur   Rs. 2.9 Cr   4.0 aana   \n",
       "1           House for Sale     Satdobato, Lalitpur  Rs. 4.75 Cr   3.0 aana   \n",
       "2     4 BHK House for Sale        Imadol, Lalitpur  Rs. 1.99 Cr   2.3 aana   \n",
       "3  Bungalow House for Sale    Bhaisepati, Lalitpur     Rs. 4 Cr   7.0 aana   \n",
       "4           House for Rent  Maharajgunj, Kathmandu  Rs. 12000000  6.0 aana   \n",
       "\n",
       "  BUILDUP AREA ROAD ACCESS      FACING  FLOOR  BEDROOM  BATHROOM BUILT YEAR  \\\n",
       "0          NaN     12 Feet        West    3.0      5.0       4.0   2076 B.S   \n",
       "1          NaN     10 Feet        West    4.5      5.0       6.0   2076 B.S   \n",
       "2          NaN     10 Feet        West    2.5      4.0       4.0   2060 B.S   \n",
       "3          NaN     12 Feet  North-West    2.5      4.0       3.0   2059 B.S   \n",
       "4          NaN     20 Feet       South    2.0      4.0       4.0   2071 B.S   \n",
       "\n",
       "              PARKING                                          AMENITIES  \\\n",
       "0  1 CaRs.  & 2 Bikes  ['Earthquake Resistant', 'Marbel', 'Parquet', ...   \n",
       "1  2 CaRs.  & 2 Bikes  ['Earthquake Resistant', 'Parquet', 'Drinking ...   \n",
       "2  1 CaRs.  & 3 Bikes  ['Earthquake Resistant', 'Marbel', 'Parquet', ...   \n",
       "3  4 CaRs.  & 4 Bikes  ['Earthquake Resistant', 'Marbel', 'Parquet', ...   \n",
       "4  4 CaRs.  & 5 Bikes  ['Earthquake Resistant', 'Parquet', 'Parking',...   \n",
       "\n",
       "   AMENITY_PARKING  \n",
       "0                1  \n",
       "1                1  \n",
       "2                1  \n",
       "3                1  \n",
       "4                1  "
      ]
     },
     "execution_count": 8,
     "metadata": {},
     "output_type": "execute_result"
    }
   ],
   "source": [
    "ds.head()"
   ]
  },
  {
   "cell_type": "markdown",
   "id": "d4f46b3a",
   "metadata": {},
   "source": [
    "# Price"
   ]
  },
  {
   "cell_type": "code",
   "execution_count": 9,
   "id": "d69d16d1",
   "metadata": {},
   "outputs": [],
   "source": [
    "# Function to process the Price (value)\n",
    "def process_amount(value):\n",
    "    if re.search(r'Rs\\.', value) and re.search(r'Cr', value):\n",
    "        value = value.replace('Rs.', '').replace('Cr', '')\n",
    "        value = float(value) * 10000000\n",
    "    return value\n",
    "\n",
    "# Apply the function to the 'PRICE' column\n",
    "ds['PRICE'] = ds['PRICE'].apply(process_amount)"
   ]
  },
  {
   "cell_type": "code",
   "execution_count": 10,
   "id": "f3c185e8",
   "metadata": {},
   "outputs": [
    {
     "data": {
      "text/html": [
       "<div>\n",
       "<style scoped>\n",
       "    .dataframe tbody tr th:only-of-type {\n",
       "        vertical-align: middle;\n",
       "    }\n",
       "\n",
       "    .dataframe tbody tr th {\n",
       "        vertical-align: top;\n",
       "    }\n",
       "\n",
       "    .dataframe thead th {\n",
       "        text-align: right;\n",
       "    }\n",
       "</style>\n",
       "<table border=\"1\" class=\"dataframe\">\n",
       "  <thead>\n",
       "    <tr style=\"text-align: right;\">\n",
       "      <th></th>\n",
       "      <th>TITLE</th>\n",
       "      <th>LOCATION</th>\n",
       "      <th>PRICE</th>\n",
       "      <th>LAND AREA</th>\n",
       "      <th>BUILDUP AREA</th>\n",
       "      <th>ROAD ACCESS</th>\n",
       "      <th>FACING</th>\n",
       "      <th>FLOOR</th>\n",
       "      <th>BEDROOM</th>\n",
       "      <th>BATHROOM</th>\n",
       "      <th>BUILT YEAR</th>\n",
       "      <th>PARKING</th>\n",
       "      <th>AMENITIES</th>\n",
       "      <th>AMENITY_PARKING</th>\n",
       "    </tr>\n",
       "  </thead>\n",
       "  <tbody>\n",
       "    <tr>\n",
       "      <th>3413</th>\n",
       "      <td>Padma Colony Phase III</td>\n",
       "      <td>Sitapiala,  Kathmandu</td>\n",
       "      <td>26,000,000</td>\n",
       "      <td>4.5 aana</td>\n",
       "      <td>NaN</td>\n",
       "      <td>16 Feet</td>\n",
       "      <td>North</td>\n",
       "      <td>2.5</td>\n",
       "      <td>4.0</td>\n",
       "      <td>4.0</td>\n",
       "      <td>2076 B.S</td>\n",
       "      <td>1 Car &amp; 3 Bikes</td>\n",
       "      <td>['Garage', 'Parking']</td>\n",
       "      <td>1</td>\n",
       "    </tr>\n",
       "    <tr>\n",
       "      <th>3414</th>\n",
       "      <td>Bhatbhateni Apartment</td>\n",
       "      <td>Bhatbhateni,  Kathmandu</td>\n",
       "      <td>30,000,000</td>\n",
       "      <td>4.5 aana</td>\n",
       "      <td>1700 Sq.ft</td>\n",
       "      <td>16 Feet</td>\n",
       "      <td>South</td>\n",
       "      <td>3.0</td>\n",
       "      <td>3.0</td>\n",
       "      <td>3.0</td>\n",
       "      <td>2076 B.S</td>\n",
       "      <td>1 Car &amp; 3 Bikes</td>\n",
       "      <td>['Garage', 'Parking']</td>\n",
       "      <td>1</td>\n",
       "    </tr>\n",
       "    <tr>\n",
       "      <th>3415</th>\n",
       "      <td>स्यूचाटार</td>\n",
       "      <td>Syuchatar,  Kathmandu</td>\n",
       "      <td>16000000</td>\n",
       "      <td>4.7 aana</td>\n",
       "      <td>1700 Sq.ft</td>\n",
       "      <td>16 Feet</td>\n",
       "      <td>South</td>\n",
       "      <td>2.5</td>\n",
       "      <td>4.0</td>\n",
       "      <td>2.0</td>\n",
       "      <td>2072 B.S</td>\n",
       "      <td>1 Car &amp; 3 Bikes</td>\n",
       "      <td>['Garage']</td>\n",
       "      <td>1</td>\n",
       "    </tr>\n",
       "    <tr>\n",
       "      <th>3416</th>\n",
       "      <td>Sano Bharayang Colony</td>\n",
       "      <td>Sano Bharayang,  Kathmandu</td>\n",
       "      <td>35000000.0</td>\n",
       "      <td>6.3 aana</td>\n",
       "      <td>3505 Sq.ft</td>\n",
       "      <td>16 Feet</td>\n",
       "      <td>North-West</td>\n",
       "      <td>2.5</td>\n",
       "      <td>5.0</td>\n",
       "      <td>3.0</td>\n",
       "      <td>2077 B.S</td>\n",
       "      <td>2 CaRs. &amp; 7 Bikes</td>\n",
       "      <td>['Lawn', 'Garage', 'Air Condition', 'Backyard'...</td>\n",
       "      <td>1</td>\n",
       "    </tr>\n",
       "    <tr>\n",
       "      <th>3417</th>\n",
       "      <td>Buddhanilkatha Banglow</td>\n",
       "      <td>Budhanilkantha,  Kathmandu</td>\n",
       "      <td>48000000</td>\n",
       "      <td>8 aana</td>\n",
       "      <td>5 aana</td>\n",
       "      <td>16 Feet</td>\n",
       "      <td>North</td>\n",
       "      <td>2.0</td>\n",
       "      <td>5.0</td>\n",
       "      <td>4.0</td>\n",
       "      <td>2075 B.S</td>\n",
       "      <td>2 CaRs. &amp; 8 Bikes</td>\n",
       "      <td>[]</td>\n",
       "      <td>1</td>\n",
       "    </tr>\n",
       "  </tbody>\n",
       "</table>\n",
       "</div>"
      ],
      "text/plain": [
       "                       TITLE                     LOCATION        PRICE  \\\n",
       "3413  Padma Colony Phase III        Sitapiala,  Kathmandu   26,000,000   \n",
       "3414   Bhatbhateni Apartment      Bhatbhateni,  Kathmandu   30,000,000   \n",
       "3415               स्यूचाटार        Syuchatar,  Kathmandu     16000000   \n",
       "3416   Sano Bharayang Colony   Sano Bharayang,  Kathmandu   35000000.0   \n",
       "3417  Buddhanilkatha Banglow   Budhanilkantha,  Kathmandu     48000000   \n",
       "\n",
       "      LAND AREA BUILDUP AREA ROAD ACCESS      FACING  FLOOR  BEDROOM  \\\n",
       "3413   4.5 aana          NaN     16 Feet       North    2.5      4.0   \n",
       "3414   4.5 aana   1700 Sq.ft     16 Feet       South    3.0      3.0   \n",
       "3415  4.7 aana    1700 Sq.ft     16 Feet       South    2.5      4.0   \n",
       "3416   6.3 aana   3505 Sq.ft     16 Feet  North-West    2.5      5.0   \n",
       "3417     8 aana       5 aana     16 Feet       North    2.0      5.0   \n",
       "\n",
       "      BATHROOM BUILT YEAR            PARKING  \\\n",
       "3413       4.0   2076 B.S    1 Car & 3 Bikes   \n",
       "3414       3.0   2076 B.S    1 Car & 3 Bikes   \n",
       "3415       2.0   2072 B.S    1 Car & 3 Bikes   \n",
       "3416       3.0   2077 B.S  2 CaRs. & 7 Bikes   \n",
       "3417       4.0   2075 B.S  2 CaRs. & 8 Bikes   \n",
       "\n",
       "                                              AMENITIES  AMENITY_PARKING  \n",
       "3413                              ['Garage', 'Parking']                1  \n",
       "3414                              ['Garage', 'Parking']                1  \n",
       "3415                                         ['Garage']                1  \n",
       "3416  ['Lawn', 'Garage', 'Air Condition', 'Backyard'...                1  \n",
       "3417                                                 []                1  "
      ]
     },
     "execution_count": 10,
     "metadata": {},
     "output_type": "execute_result"
    }
   ],
   "source": [
    "ds['PRICE'] = ds['PRICE'].astype(str).apply(lambda x: x.replace('Rs.', '') if 'Rs.' in x else x)\n",
    "ds.tail()"
   ]
  },
  {
   "cell_type": "code",
   "execution_count": 11,
   "id": "63abd337",
   "metadata": {},
   "outputs": [
    {
     "data": {
      "text/html": [
       "<div>\n",
       "<style scoped>\n",
       "    .dataframe tbody tr th:only-of-type {\n",
       "        vertical-align: middle;\n",
       "    }\n",
       "\n",
       "    .dataframe tbody tr th {\n",
       "        vertical-align: top;\n",
       "    }\n",
       "\n",
       "    .dataframe thead th {\n",
       "        text-align: right;\n",
       "    }\n",
       "</style>\n",
       "<table border=\"1\" class=\"dataframe\">\n",
       "  <thead>\n",
       "    <tr style=\"text-align: right;\">\n",
       "      <th></th>\n",
       "      <th>PRICE</th>\n",
       "      <th>FLOOR</th>\n",
       "      <th>BEDROOM</th>\n",
       "      <th>BATHROOM</th>\n",
       "      <th>AMENITY_PARKING</th>\n",
       "    </tr>\n",
       "  </thead>\n",
       "  <tbody>\n",
       "    <tr>\n",
       "      <th>count</th>\n",
       "      <td>2.639000e+03</td>\n",
       "      <td>2601.000000</td>\n",
       "      <td>2459.000000</td>\n",
       "      <td>2402.000000</td>\n",
       "      <td>2639.000000</td>\n",
       "    </tr>\n",
       "    <tr>\n",
       "      <th>mean</th>\n",
       "      <td>3.996616e+07</td>\n",
       "      <td>2.681238</td>\n",
       "      <td>5.348922</td>\n",
       "      <td>4.073272</td>\n",
       "      <td>0.904509</td>\n",
       "    </tr>\n",
       "    <tr>\n",
       "      <th>std</th>\n",
       "      <td>2.802549e+07</td>\n",
       "      <td>0.715575</td>\n",
       "      <td>2.315145</td>\n",
       "      <td>1.733746</td>\n",
       "      <td>0.293947</td>\n",
       "    </tr>\n",
       "    <tr>\n",
       "      <th>min</th>\n",
       "      <td>9.800000e+06</td>\n",
       "      <td>1.000000</td>\n",
       "      <td>1.000000</td>\n",
       "      <td>1.000000</td>\n",
       "      <td>0.000000</td>\n",
       "    </tr>\n",
       "    <tr>\n",
       "      <th>25%</th>\n",
       "      <td>2.500000e+07</td>\n",
       "      <td>2.500000</td>\n",
       "      <td>4.000000</td>\n",
       "      <td>3.000000</td>\n",
       "      <td>1.000000</td>\n",
       "    </tr>\n",
       "    <tr>\n",
       "      <th>50%</th>\n",
       "      <td>3.200000e+07</td>\n",
       "      <td>2.500000</td>\n",
       "      <td>5.000000</td>\n",
       "      <td>4.000000</td>\n",
       "      <td>1.000000</td>\n",
       "    </tr>\n",
       "    <tr>\n",
       "      <th>75%</th>\n",
       "      <td>4.500000e+07</td>\n",
       "      <td>3.000000</td>\n",
       "      <td>6.000000</td>\n",
       "      <td>5.000000</td>\n",
       "      <td>1.000000</td>\n",
       "    </tr>\n",
       "    <tr>\n",
       "      <th>max</th>\n",
       "      <td>4.000000e+08</td>\n",
       "      <td>8.000000</td>\n",
       "      <td>36.000000</td>\n",
       "      <td>34.000000</td>\n",
       "      <td>1.000000</td>\n",
       "    </tr>\n",
       "  </tbody>\n",
       "</table>\n",
       "</div>"
      ],
      "text/plain": [
       "              PRICE        FLOOR      BEDROOM     BATHROOM  AMENITY_PARKING\n",
       "count  2.639000e+03  2601.000000  2459.000000  2402.000000      2639.000000\n",
       "mean   3.996616e+07     2.681238     5.348922     4.073272         0.904509\n",
       "std    2.802549e+07     0.715575     2.315145     1.733746         0.293947\n",
       "min    9.800000e+06     1.000000     1.000000     1.000000         0.000000\n",
       "25%    2.500000e+07     2.500000     4.000000     3.000000         1.000000\n",
       "50%    3.200000e+07     2.500000     5.000000     4.000000         1.000000\n",
       "75%    4.500000e+07     3.000000     6.000000     5.000000         1.000000\n",
       "max    4.000000e+08     8.000000    36.000000    34.000000         1.000000"
      ]
     },
     "execution_count": 11,
     "metadata": {},
     "output_type": "execute_result"
    }
   ],
   "source": [
    "# Remove all unwanted pricing row(s) and comma from price column\n",
    "removable_price_unit = ['/aana', 'Lac/m', '/m', 'Lac/aana', 'Lac', '/sf', 'Price on call']\n",
    "ds = ds[~ds['PRICE'].str.contains('|'.join(removable_price_unit))]\n",
    "ds['PRICE'] = ds['PRICE'].str.replace(',', '')\n",
    "\n",
    "# Remove the decimal values and convert it into integer value\n",
    "ds['PRICE'] = ds['PRICE'].apply(lambda x: str(x).strip().split('.')[0] if '.' in str(x) else x)\n",
    "ds['PRICE'] = ds['PRICE'].str.strip()\n",
    "ds['PRICE'] = ds['PRICE'].astype(int)\n",
    "ds.describe()"
   ]
  },
  {
   "cell_type": "markdown",
   "id": "20ef3acb",
   "metadata": {},
   "source": [
    "# Remove unwanted column(s)"
   ]
  },
  {
   "cell_type": "code",
   "execution_count": 12,
   "id": "5b84433e",
   "metadata": {},
   "outputs": [],
   "source": [
    "#Drop columns that do not influence the house price\n",
    "ds = ds.drop(['TITLE', 'BUILDUP AREA', 'PARKING', 'FACING'], axis=1)"
   ]
  },
  {
   "cell_type": "code",
   "execution_count": 13,
   "id": "6c446986",
   "metadata": {},
   "outputs": [
    {
     "data": {
      "text/html": [
       "<div>\n",
       "<style scoped>\n",
       "    .dataframe tbody tr th:only-of-type {\n",
       "        vertical-align: middle;\n",
       "    }\n",
       "\n",
       "    .dataframe tbody tr th {\n",
       "        vertical-align: top;\n",
       "    }\n",
       "\n",
       "    .dataframe thead th {\n",
       "        text-align: right;\n",
       "    }\n",
       "</style>\n",
       "<table border=\"1\" class=\"dataframe\">\n",
       "  <thead>\n",
       "    <tr style=\"text-align: right;\">\n",
       "      <th></th>\n",
       "      <th>LOCATION</th>\n",
       "      <th>PRICE</th>\n",
       "      <th>LAND AREA</th>\n",
       "      <th>ROAD ACCESS</th>\n",
       "      <th>FLOOR</th>\n",
       "      <th>BEDROOM</th>\n",
       "      <th>BATHROOM</th>\n",
       "      <th>BUILT YEAR</th>\n",
       "      <th>AMENITIES</th>\n",
       "      <th>AMENITY_PARKING</th>\n",
       "    </tr>\n",
       "  </thead>\n",
       "  <tbody>\n",
       "    <tr>\n",
       "      <th>0</th>\n",
       "      <td>Imadol, Lalitpur</td>\n",
       "      <td>29000000</td>\n",
       "      <td>4.0 aana</td>\n",
       "      <td>12 Feet</td>\n",
       "      <td>3.0</td>\n",
       "      <td>5.0</td>\n",
       "      <td>4.0</td>\n",
       "      <td>2076 B.S</td>\n",
       "      <td>['Earthquake Resistant', 'Marbel', 'Parquet', ...</td>\n",
       "      <td>1</td>\n",
       "    </tr>\n",
       "    <tr>\n",
       "      <th>1</th>\n",
       "      <td>Satdobato, Lalitpur</td>\n",
       "      <td>47500000</td>\n",
       "      <td>3.0 aana</td>\n",
       "      <td>10 Feet</td>\n",
       "      <td>4.5</td>\n",
       "      <td>5.0</td>\n",
       "      <td>6.0</td>\n",
       "      <td>2076 B.S</td>\n",
       "      <td>['Earthquake Resistant', 'Parquet', 'Drinking ...</td>\n",
       "      <td>1</td>\n",
       "    </tr>\n",
       "    <tr>\n",
       "      <th>2</th>\n",
       "      <td>Imadol, Lalitpur</td>\n",
       "      <td>19900000</td>\n",
       "      <td>2.3 aana</td>\n",
       "      <td>10 Feet</td>\n",
       "      <td>2.5</td>\n",
       "      <td>4.0</td>\n",
       "      <td>4.0</td>\n",
       "      <td>2060 B.S</td>\n",
       "      <td>['Earthquake Resistant', 'Marbel', 'Parquet', ...</td>\n",
       "      <td>1</td>\n",
       "    </tr>\n",
       "    <tr>\n",
       "      <th>3</th>\n",
       "      <td>Bhaisepati, Lalitpur</td>\n",
       "      <td>40000000</td>\n",
       "      <td>7.0 aana</td>\n",
       "      <td>12 Feet</td>\n",
       "      <td>2.5</td>\n",
       "      <td>4.0</td>\n",
       "      <td>3.0</td>\n",
       "      <td>2059 B.S</td>\n",
       "      <td>['Earthquake Resistant', 'Marbel', 'Parquet', ...</td>\n",
       "      <td>1</td>\n",
       "    </tr>\n",
       "    <tr>\n",
       "      <th>4</th>\n",
       "      <td>Maharajgunj, Kathmandu</td>\n",
       "      <td>12000000</td>\n",
       "      <td>6.0 aana</td>\n",
       "      <td>20 Feet</td>\n",
       "      <td>2.0</td>\n",
       "      <td>4.0</td>\n",
       "      <td>4.0</td>\n",
       "      <td>2071 B.S</td>\n",
       "      <td>['Earthquake Resistant', 'Parquet', 'Parking',...</td>\n",
       "      <td>1</td>\n",
       "    </tr>\n",
       "  </tbody>\n",
       "</table>\n",
       "</div>"
      ],
      "text/plain": [
       "                 LOCATION     PRICE LAND AREA ROAD ACCESS  FLOOR  BEDROOM  \\\n",
       "0        Imadol, Lalitpur  29000000  4.0 aana     12 Feet    3.0      5.0   \n",
       "1     Satdobato, Lalitpur  47500000  3.0 aana     10 Feet    4.5      5.0   \n",
       "2        Imadol, Lalitpur  19900000  2.3 aana     10 Feet    2.5      4.0   \n",
       "3    Bhaisepati, Lalitpur  40000000  7.0 aana     12 Feet    2.5      4.0   \n",
       "4  Maharajgunj, Kathmandu  12000000  6.0 aana     20 Feet    2.0      4.0   \n",
       "\n",
       "   BATHROOM BUILT YEAR                                          AMENITIES  \\\n",
       "0       4.0   2076 B.S  ['Earthquake Resistant', 'Marbel', 'Parquet', ...   \n",
       "1       6.0   2076 B.S  ['Earthquake Resistant', 'Parquet', 'Drinking ...   \n",
       "2       4.0   2060 B.S  ['Earthquake Resistant', 'Marbel', 'Parquet', ...   \n",
       "3       3.0   2059 B.S  ['Earthquake Resistant', 'Marbel', 'Parquet', ...   \n",
       "4       4.0   2071 B.S  ['Earthquake Resistant', 'Parquet', 'Parking',...   \n",
       "\n",
       "   AMENITY_PARKING  \n",
       "0                1  \n",
       "1                1  \n",
       "2                1  \n",
       "3                1  \n",
       "4                1  "
      ]
     },
     "execution_count": 13,
     "metadata": {},
     "output_type": "execute_result"
    }
   ],
   "source": [
    "ds.head()"
   ]
  },
  {
   "cell_type": "markdown",
   "id": "0104e60f",
   "metadata": {},
   "source": [
    "# Location"
   ]
  },
  {
   "cell_type": "code",
   "execution_count": 14,
   "id": "8a3ae739",
   "metadata": {},
   "outputs": [
    {
     "data": {
      "text/plain": [
       "LOCATION\n",
       "Kathmandu         1723\n",
       "Lalitpur           786\n",
       "Bhaktapur           58\n",
       "KATHMANDU           18\n",
       "Chitwan             10\n",
       "Kaski                7\n",
       "Kavrepalanchok       6\n",
       "LALITPUR             4\n",
       "Rupandehi            4\n",
       "undefined            3\n",
       "Dhading              2\n",
       "Sunsari              2\n",
       "kathmandu            2\n",
       "Karhmandu            1\n",
       "chowk                1\n",
       "Kathmndu             1\n",
       "lalitpur             1\n",
       "Narayanthan          1\n",
       "BHAKTAPUR            1\n",
       "Swoyambhu            1\n",
       "IMADOL               1\n",
       "Sukedhara            1\n",
       "Sitapaila            1\n",
       "Jhapa                1\n",
       "Morang               1\n",
       "Nuwakot              1\n",
       "Kathmandhu           1\n",
       "Name: count, dtype: int64"
      ]
     },
     "execution_count": 14,
     "metadata": {},
     "output_type": "execute_result"
    }
   ],
   "source": [
    "location = ds[\"LOCATION\"].astype(str).apply(lambda x: x.strip().split())\n",
    "cities = location.str[-1]\n",
    "ds['LOCATION'] = cities\n",
    "ds['LOCATION'].value_counts()"
   ]
  },
  {
   "cell_type": "code",
   "execution_count": 15,
   "id": "27c485da",
   "metadata": {},
   "outputs": [
    {
     "data": {
      "text/plain": [
       "LOCATION\n",
       "Kathmandu    1723\n",
       "Lalitpur      786\n",
       "Name: count, dtype: int64"
      ]
     },
     "execution_count": 15,
     "metadata": {},
     "output_type": "execute_result"
    }
   ],
   "source": [
    "#Take main cities \n",
    "main_cities = ['Kathmandu', 'Lalitpur']\n",
    "ds = ds[ds['LOCATION'].isin(main_cities)]\n",
    "ds['LOCATION'].value_counts()"
   ]
  },
  {
   "cell_type": "code",
   "execution_count": 16,
   "id": "1952aee6",
   "metadata": {},
   "outputs": [
    {
     "data": {
      "text/html": [
       "<div>\n",
       "<style scoped>\n",
       "    .dataframe tbody tr th:only-of-type {\n",
       "        vertical-align: middle;\n",
       "    }\n",
       "\n",
       "    .dataframe tbody tr th {\n",
       "        vertical-align: top;\n",
       "    }\n",
       "\n",
       "    .dataframe thead th {\n",
       "        text-align: right;\n",
       "    }\n",
       "</style>\n",
       "<table border=\"1\" class=\"dataframe\">\n",
       "  <thead>\n",
       "    <tr style=\"text-align: right;\">\n",
       "      <th></th>\n",
       "      <th>PRICE</th>\n",
       "      <th>LAND AREA</th>\n",
       "      <th>ROAD ACCESS</th>\n",
       "      <th>FLOOR</th>\n",
       "      <th>BEDROOM</th>\n",
       "      <th>BATHROOM</th>\n",
       "      <th>BUILT YEAR</th>\n",
       "      <th>AMENITIES</th>\n",
       "      <th>AMENITY_PARKING</th>\n",
       "      <th>LOCATION_Kathmandu</th>\n",
       "      <th>LOCATION_Lalitpur</th>\n",
       "    </tr>\n",
       "  </thead>\n",
       "  <tbody>\n",
       "    <tr>\n",
       "      <th>0</th>\n",
       "      <td>29000000</td>\n",
       "      <td>4.0 aana</td>\n",
       "      <td>12 Feet</td>\n",
       "      <td>3.0</td>\n",
       "      <td>5.0</td>\n",
       "      <td>4.0</td>\n",
       "      <td>2076 B.S</td>\n",
       "      <td>['Earthquake Resistant', 'Marbel', 'Parquet', ...</td>\n",
       "      <td>1</td>\n",
       "      <td>0</td>\n",
       "      <td>1</td>\n",
       "    </tr>\n",
       "    <tr>\n",
       "      <th>1</th>\n",
       "      <td>47500000</td>\n",
       "      <td>3.0 aana</td>\n",
       "      <td>10 Feet</td>\n",
       "      <td>4.5</td>\n",
       "      <td>5.0</td>\n",
       "      <td>6.0</td>\n",
       "      <td>2076 B.S</td>\n",
       "      <td>['Earthquake Resistant', 'Parquet', 'Drinking ...</td>\n",
       "      <td>1</td>\n",
       "      <td>0</td>\n",
       "      <td>1</td>\n",
       "    </tr>\n",
       "    <tr>\n",
       "      <th>2</th>\n",
       "      <td>19900000</td>\n",
       "      <td>2.3 aana</td>\n",
       "      <td>10 Feet</td>\n",
       "      <td>2.5</td>\n",
       "      <td>4.0</td>\n",
       "      <td>4.0</td>\n",
       "      <td>2060 B.S</td>\n",
       "      <td>['Earthquake Resistant', 'Marbel', 'Parquet', ...</td>\n",
       "      <td>1</td>\n",
       "      <td>0</td>\n",
       "      <td>1</td>\n",
       "    </tr>\n",
       "    <tr>\n",
       "      <th>3</th>\n",
       "      <td>40000000</td>\n",
       "      <td>7.0 aana</td>\n",
       "      <td>12 Feet</td>\n",
       "      <td>2.5</td>\n",
       "      <td>4.0</td>\n",
       "      <td>3.0</td>\n",
       "      <td>2059 B.S</td>\n",
       "      <td>['Earthquake Resistant', 'Marbel', 'Parquet', ...</td>\n",
       "      <td>1</td>\n",
       "      <td>0</td>\n",
       "      <td>1</td>\n",
       "    </tr>\n",
       "    <tr>\n",
       "      <th>4</th>\n",
       "      <td>12000000</td>\n",
       "      <td>6.0 aana</td>\n",
       "      <td>20 Feet</td>\n",
       "      <td>2.0</td>\n",
       "      <td>4.0</td>\n",
       "      <td>4.0</td>\n",
       "      <td>2071 B.S</td>\n",
       "      <td>['Earthquake Resistant', 'Parquet', 'Parking',...</td>\n",
       "      <td>1</td>\n",
       "      <td>1</td>\n",
       "      <td>0</td>\n",
       "    </tr>\n",
       "  </tbody>\n",
       "</table>\n",
       "</div>"
      ],
      "text/plain": [
       "      PRICE LAND AREA ROAD ACCESS  FLOOR  BEDROOM  BATHROOM BUILT YEAR  \\\n",
       "0  29000000  4.0 aana     12 Feet    3.0      5.0       4.0   2076 B.S   \n",
       "1  47500000  3.0 aana     10 Feet    4.5      5.0       6.0   2076 B.S   \n",
       "2  19900000  2.3 aana     10 Feet    2.5      4.0       4.0   2060 B.S   \n",
       "3  40000000  7.0 aana     12 Feet    2.5      4.0       3.0   2059 B.S   \n",
       "4  12000000  6.0 aana     20 Feet    2.0      4.0       4.0   2071 B.S   \n",
       "\n",
       "                                           AMENITIES  AMENITY_PARKING  \\\n",
       "0  ['Earthquake Resistant', 'Marbel', 'Parquet', ...                1   \n",
       "1  ['Earthquake Resistant', 'Parquet', 'Drinking ...                1   \n",
       "2  ['Earthquake Resistant', 'Marbel', 'Parquet', ...                1   \n",
       "3  ['Earthquake Resistant', 'Marbel', 'Parquet', ...                1   \n",
       "4  ['Earthquake Resistant', 'Parquet', 'Parking',...                1   \n",
       "\n",
       "   LOCATION_Kathmandu  LOCATION_Lalitpur  \n",
       "0                   0                  1  \n",
       "1                   0                  1  \n",
       "2                   0                  1  \n",
       "3                   0                  1  \n",
       "4                   1                  0  "
      ]
     },
     "execution_count": 16,
     "metadata": {},
     "output_type": "execute_result"
    }
   ],
   "source": [
    "#convert cities into 0 and 1\n",
    "ds = pd.get_dummies(ds, columns = ['LOCATION'])\n",
    "ds = ds.replace({True: 1, False: 0})\n",
    "ds.head()"
   ]
  },
  {
   "cell_type": "markdown",
   "id": "d2ad428f",
   "metadata": {},
   "source": [
    "# Bedroom and Bathroom"
   ]
  },
  {
   "cell_type": "code",
   "execution_count": 17,
   "id": "528233e8",
   "metadata": {},
   "outputs": [
    {
     "data": {
      "text/plain": [
       "PRICE                 2273\n",
       "LAND AREA             2272\n",
       "ROAD ACCESS           2273\n",
       "FLOOR                 2273\n",
       "BEDROOM               2273\n",
       "BATHROOM              2273\n",
       "BUILT YEAR            2273\n",
       "AMENITIES             2273\n",
       "AMENITY_PARKING       2273\n",
       "LOCATION_Kathmandu    2273\n",
       "LOCATION_Lalitpur     2273\n",
       "dtype: int64"
      ]
     },
     "execution_count": 17,
     "metadata": {},
     "output_type": "execute_result"
    }
   ],
   "source": [
    "# Drop rows containing NaN values in both \"BEDROOM\" and \"BATHROOM\" columns\n",
    "ds.dropna(subset=[\"BEDROOM\", \"BATHROOM\"], inplace=True)\n",
    "ds.count()"
   ]
  },
  {
   "cell_type": "markdown",
   "id": "b42b5a98",
   "metadata": {},
   "source": [
    "# Land Area"
   ]
  },
  {
   "cell_type": "code",
   "execution_count": 18,
   "id": "453b2033",
   "metadata": {
    "scrolled": true
   },
   "outputs": [],
   "source": [
    "#clean land area\n",
    "ds['LAND AREA'] = ds['LAND AREA'].astype(str).apply(lambda x: float(x.strip().split()[0]))\n",
    "\n",
    "# print(ds['LAND AREA'].unique)\n",
    "# area.unique()"
   ]
  },
  {
   "cell_type": "code",
   "execution_count": 19,
   "id": "b7aa221e",
   "metadata": {},
   "outputs": [
    {
     "name": "stdout",
     "output_type": "stream",
     "text": [
      "         PRICE  LAND AREA ROAD ACCESS  FLOOR  BEDROOM  BATHROOM BUILT YEAR  \\\n",
      "2038  39500000        NaN     10 Feet    3.5      9.0       4.0   2056 B.S   \n",
      "\n",
      "                                       AMENITIES  AMENITY_PARKING  \\\n",
      "2038  ['Drainage', 'Bathroom', 'Drinking Water']                0   \n",
      "\n",
      "      LOCATION_Kathmandu  LOCATION_Lalitpur  \n",
      "2038                   1                  0  \n"
     ]
    },
    {
     "data": {
      "text/plain": [
       "PRICE                 1\n",
       "LAND AREA             0\n",
       "ROAD ACCESS           1\n",
       "FLOOR                 1\n",
       "BEDROOM               1\n",
       "BATHROOM              1\n",
       "BUILT YEAR            1\n",
       "AMENITIES             1\n",
       "AMENITY_PARKING       1\n",
       "LOCATION_Kathmandu    1\n",
       "LOCATION_Lalitpur     1\n",
       "dtype: int64"
      ]
     },
     "execution_count": 19,
     "metadata": {},
     "output_type": "execute_result"
    }
   ],
   "source": [
    "null_rows = ds[ds[\"LAND AREA\"].isnull()]\n",
    "print(null_rows) \n",
    "null_rows.count()"
   ]
  },
  {
   "cell_type": "code",
   "execution_count": 20,
   "id": "8f32261c",
   "metadata": {},
   "outputs": [
    {
     "data": {
      "text/html": [
       "<div>\n",
       "<style scoped>\n",
       "    .dataframe tbody tr th:only-of-type {\n",
       "        vertical-align: middle;\n",
       "    }\n",
       "\n",
       "    .dataframe tbody tr th {\n",
       "        vertical-align: top;\n",
       "    }\n",
       "\n",
       "    .dataframe thead th {\n",
       "        text-align: right;\n",
       "    }\n",
       "</style>\n",
       "<table border=\"1\" class=\"dataframe\">\n",
       "  <thead>\n",
       "    <tr style=\"text-align: right;\">\n",
       "      <th></th>\n",
       "      <th>PRICE</th>\n",
       "      <th>LAND AREA</th>\n",
       "      <th>FLOOR</th>\n",
       "      <th>BEDROOM</th>\n",
       "      <th>BATHROOM</th>\n",
       "      <th>AMENITY_PARKING</th>\n",
       "      <th>LOCATION_Kathmandu</th>\n",
       "      <th>LOCATION_Lalitpur</th>\n",
       "    </tr>\n",
       "  </thead>\n",
       "  <tbody>\n",
       "    <tr>\n",
       "      <th>count</th>\n",
       "      <td>2.273000e+03</td>\n",
       "      <td>2272.000000</td>\n",
       "      <td>2273.000000</td>\n",
       "      <td>2273.000000</td>\n",
       "      <td>2273.000000</td>\n",
       "      <td>2273.000000</td>\n",
       "      <td>2273.000000</td>\n",
       "      <td>2273.000000</td>\n",
       "    </tr>\n",
       "    <tr>\n",
       "      <th>mean</th>\n",
       "      <td>3.994325e+07</td>\n",
       "      <td>6.984573</td>\n",
       "      <td>2.667796</td>\n",
       "      <td>5.331280</td>\n",
       "      <td>4.095908</td>\n",
       "      <td>0.918170</td>\n",
       "      <td>0.670040</td>\n",
       "      <td>0.329960</td>\n",
       "    </tr>\n",
       "    <tr>\n",
       "      <th>std</th>\n",
       "      <td>2.620008e+07</td>\n",
       "      <td>100.635150</td>\n",
       "      <td>0.685862</td>\n",
       "      <td>2.324807</td>\n",
       "      <td>1.751646</td>\n",
       "      <td>0.274166</td>\n",
       "      <td>0.470302</td>\n",
       "      <td>0.470302</td>\n",
       "    </tr>\n",
       "    <tr>\n",
       "      <th>min</th>\n",
       "      <td>9.800000e+06</td>\n",
       "      <td>0.000000</td>\n",
       "      <td>1.000000</td>\n",
       "      <td>1.000000</td>\n",
       "      <td>1.000000</td>\n",
       "      <td>0.000000</td>\n",
       "      <td>0.000000</td>\n",
       "      <td>0.000000</td>\n",
       "    </tr>\n",
       "    <tr>\n",
       "      <th>25%</th>\n",
       "      <td>2.500000e+07</td>\n",
       "      <td>3.200000</td>\n",
       "      <td>2.500000</td>\n",
       "      <td>4.000000</td>\n",
       "      <td>3.000000</td>\n",
       "      <td>1.000000</td>\n",
       "      <td>0.000000</td>\n",
       "      <td>0.000000</td>\n",
       "    </tr>\n",
       "    <tr>\n",
       "      <th>50%</th>\n",
       "      <td>3.250000e+07</td>\n",
       "      <td>4.000000</td>\n",
       "      <td>2.500000</td>\n",
       "      <td>5.000000</td>\n",
       "      <td>4.000000</td>\n",
       "      <td>1.000000</td>\n",
       "      <td>1.000000</td>\n",
       "      <td>0.000000</td>\n",
       "    </tr>\n",
       "    <tr>\n",
       "      <th>75%</th>\n",
       "      <td>4.500000e+07</td>\n",
       "      <td>5.200000</td>\n",
       "      <td>2.500000</td>\n",
       "      <td>6.000000</td>\n",
       "      <td>5.000000</td>\n",
       "      <td>1.000000</td>\n",
       "      <td>1.000000</td>\n",
       "      <td>1.000000</td>\n",
       "    </tr>\n",
       "    <tr>\n",
       "      <th>max</th>\n",
       "      <td>3.250000e+08</td>\n",
       "      <td>4800.000000</td>\n",
       "      <td>8.000000</td>\n",
       "      <td>36.000000</td>\n",
       "      <td>34.000000</td>\n",
       "      <td>1.000000</td>\n",
       "      <td>1.000000</td>\n",
       "      <td>1.000000</td>\n",
       "    </tr>\n",
       "  </tbody>\n",
       "</table>\n",
       "</div>"
      ],
      "text/plain": [
       "              PRICE    LAND AREA        FLOOR      BEDROOM     BATHROOM  \\\n",
       "count  2.273000e+03  2272.000000  2273.000000  2273.000000  2273.000000   \n",
       "mean   3.994325e+07     6.984573     2.667796     5.331280     4.095908   \n",
       "std    2.620008e+07   100.635150     0.685862     2.324807     1.751646   \n",
       "min    9.800000e+06     0.000000     1.000000     1.000000     1.000000   \n",
       "25%    2.500000e+07     3.200000     2.500000     4.000000     3.000000   \n",
       "50%    3.250000e+07     4.000000     2.500000     5.000000     4.000000   \n",
       "75%    4.500000e+07     5.200000     2.500000     6.000000     5.000000   \n",
       "max    3.250000e+08  4800.000000     8.000000    36.000000    34.000000   \n",
       "\n",
       "       AMENITY_PARKING  LOCATION_Kathmandu  LOCATION_Lalitpur  \n",
       "count      2273.000000         2273.000000        2273.000000  \n",
       "mean          0.918170            0.670040           0.329960  \n",
       "std           0.274166            0.470302           0.470302  \n",
       "min           0.000000            0.000000           0.000000  \n",
       "25%           1.000000            0.000000           0.000000  \n",
       "50%           1.000000            1.000000           0.000000  \n",
       "75%           1.000000            1.000000           1.000000  \n",
       "max           1.000000            1.000000           1.000000  "
      ]
     },
     "execution_count": 20,
     "metadata": {},
     "output_type": "execute_result"
    }
   ],
   "source": [
    "ds.describe()"
   ]
  },
  {
   "cell_type": "markdown",
   "id": "e9c8973f",
   "metadata": {},
   "source": [
    "# Road access"
   ]
  },
  {
   "cell_type": "code",
   "execution_count": 21,
   "id": "fa91db84",
   "metadata": {},
   "outputs": [],
   "source": [
    "# ds.head()"
   ]
  },
  {
   "cell_type": "code",
   "execution_count": 22,
   "id": "d8d84b49",
   "metadata": {},
   "outputs": [],
   "source": [
    "#Split the value and take the first value / zero index value of road access\n",
    "road_access = ds['ROAD ACCESS'].astype(str).apply(lambda x : x.strip().split()[0])\n",
    "# print(road_access)\n",
    "# road_access.unique()"
   ]
  },
  {
   "cell_type": "code",
   "execution_count": 23,
   "id": "32b91ebd",
   "metadata": {},
   "outputs": [
    {
     "data": {
      "text/plain": [
       "array([12. , 10. , 20. , 13. , 14. , 16. , 26. , 25. , 19. , 18. , 15. ,\n",
       "       24. , 27. , 30. , 23. ,  8. , 11. , 22. ,  6. ,  4. , 17. , 12.5,\n",
       "        9. , 20.5, 16.5, 32. , 11.5, 14.5, 13.5, 19.5, 18.5, 36. , 21. ,\n",
       "       17.5, 15.5,  5. ,  6.5, 28. , 10.5,  0. ])"
      ]
     },
     "execution_count": 23,
     "metadata": {},
     "output_type": "execute_result"
    }
   ],
   "source": [
    "#Remove unwanted character and calculate the average value. Also convert the final value to the float\n",
    "def road_access_value(value):\n",
    "    # Check if the value matches the specified format (- , /)\n",
    "    match = re.match(r\"^(\\d+)[-\\/](\\d+)$\", value)\n",
    "    if match:\n",
    "        first_number = int(match.group(1))\n",
    "        second_number = int(match.group(2))\n",
    "        return (first_number + second_number) / 2.0  # Calculate the average\n",
    "    else:\n",
    "        return float(value)\n",
    "\n",
    "# Apply the processing function to the Road Access column\n",
    "ds['ROAD ACCESS'] = road_access.apply(road_access_value)\n",
    "\n",
    "ds['ROAD ACCESS'].unique()\n",
    "# ds['ROAD ACCESS'].count()\n"
   ]
  },
  {
   "cell_type": "code",
   "execution_count": 24,
   "id": "532b0b06",
   "metadata": {},
   "outputs": [
    {
     "data": {
      "text/html": [
       "<div>\n",
       "<style scoped>\n",
       "    .dataframe tbody tr th:only-of-type {\n",
       "        vertical-align: middle;\n",
       "    }\n",
       "\n",
       "    .dataframe tbody tr th {\n",
       "        vertical-align: top;\n",
       "    }\n",
       "\n",
       "    .dataframe thead th {\n",
       "        text-align: right;\n",
       "    }\n",
       "</style>\n",
       "<table border=\"1\" class=\"dataframe\">\n",
       "  <thead>\n",
       "    <tr style=\"text-align: right;\">\n",
       "      <th></th>\n",
       "      <th>PRICE</th>\n",
       "      <th>LAND AREA</th>\n",
       "      <th>ROAD ACCESS</th>\n",
       "      <th>FLOOR</th>\n",
       "      <th>BEDROOM</th>\n",
       "      <th>BATHROOM</th>\n",
       "      <th>AMENITY_PARKING</th>\n",
       "      <th>LOCATION_Kathmandu</th>\n",
       "      <th>LOCATION_Lalitpur</th>\n",
       "    </tr>\n",
       "  </thead>\n",
       "  <tbody>\n",
       "    <tr>\n",
       "      <th>count</th>\n",
       "      <td>2.273000e+03</td>\n",
       "      <td>2272.000000</td>\n",
       "      <td>2273.000000</td>\n",
       "      <td>2273.000000</td>\n",
       "      <td>2273.000000</td>\n",
       "      <td>2273.000000</td>\n",
       "      <td>2273.000000</td>\n",
       "      <td>2273.000000</td>\n",
       "      <td>2273.000000</td>\n",
       "    </tr>\n",
       "    <tr>\n",
       "      <th>mean</th>\n",
       "      <td>3.994325e+07</td>\n",
       "      <td>6.984573</td>\n",
       "      <td>14.793445</td>\n",
       "      <td>2.667796</td>\n",
       "      <td>5.331280</td>\n",
       "      <td>4.095908</td>\n",
       "      <td>0.918170</td>\n",
       "      <td>0.670040</td>\n",
       "      <td>0.329960</td>\n",
       "    </tr>\n",
       "    <tr>\n",
       "      <th>std</th>\n",
       "      <td>2.620008e+07</td>\n",
       "      <td>100.635150</td>\n",
       "      <td>3.885055</td>\n",
       "      <td>0.685862</td>\n",
       "      <td>2.324807</td>\n",
       "      <td>1.751646</td>\n",
       "      <td>0.274166</td>\n",
       "      <td>0.470302</td>\n",
       "      <td>0.470302</td>\n",
       "    </tr>\n",
       "    <tr>\n",
       "      <th>min</th>\n",
       "      <td>9.800000e+06</td>\n",
       "      <td>0.000000</td>\n",
       "      <td>0.000000</td>\n",
       "      <td>1.000000</td>\n",
       "      <td>1.000000</td>\n",
       "      <td>1.000000</td>\n",
       "      <td>0.000000</td>\n",
       "      <td>0.000000</td>\n",
       "      <td>0.000000</td>\n",
       "    </tr>\n",
       "    <tr>\n",
       "      <th>25%</th>\n",
       "      <td>2.500000e+07</td>\n",
       "      <td>3.200000</td>\n",
       "      <td>13.000000</td>\n",
       "      <td>2.500000</td>\n",
       "      <td>4.000000</td>\n",
       "      <td>3.000000</td>\n",
       "      <td>1.000000</td>\n",
       "      <td>0.000000</td>\n",
       "      <td>0.000000</td>\n",
       "    </tr>\n",
       "    <tr>\n",
       "      <th>50%</th>\n",
       "      <td>3.250000e+07</td>\n",
       "      <td>4.000000</td>\n",
       "      <td>13.000000</td>\n",
       "      <td>2.500000</td>\n",
       "      <td>5.000000</td>\n",
       "      <td>4.000000</td>\n",
       "      <td>1.000000</td>\n",
       "      <td>1.000000</td>\n",
       "      <td>0.000000</td>\n",
       "    </tr>\n",
       "    <tr>\n",
       "      <th>75%</th>\n",
       "      <td>4.500000e+07</td>\n",
       "      <td>5.200000</td>\n",
       "      <td>16.000000</td>\n",
       "      <td>2.500000</td>\n",
       "      <td>6.000000</td>\n",
       "      <td>5.000000</td>\n",
       "      <td>1.000000</td>\n",
       "      <td>1.000000</td>\n",
       "      <td>1.000000</td>\n",
       "    </tr>\n",
       "    <tr>\n",
       "      <th>max</th>\n",
       "      <td>3.250000e+08</td>\n",
       "      <td>4800.000000</td>\n",
       "      <td>36.000000</td>\n",
       "      <td>8.000000</td>\n",
       "      <td>36.000000</td>\n",
       "      <td>34.000000</td>\n",
       "      <td>1.000000</td>\n",
       "      <td>1.000000</td>\n",
       "      <td>1.000000</td>\n",
       "    </tr>\n",
       "  </tbody>\n",
       "</table>\n",
       "</div>"
      ],
      "text/plain": [
       "              PRICE    LAND AREA  ROAD ACCESS        FLOOR      BEDROOM  \\\n",
       "count  2.273000e+03  2272.000000  2273.000000  2273.000000  2273.000000   \n",
       "mean   3.994325e+07     6.984573    14.793445     2.667796     5.331280   \n",
       "std    2.620008e+07   100.635150     3.885055     0.685862     2.324807   \n",
       "min    9.800000e+06     0.000000     0.000000     1.000000     1.000000   \n",
       "25%    2.500000e+07     3.200000    13.000000     2.500000     4.000000   \n",
       "50%    3.250000e+07     4.000000    13.000000     2.500000     5.000000   \n",
       "75%    4.500000e+07     5.200000    16.000000     2.500000     6.000000   \n",
       "max    3.250000e+08  4800.000000    36.000000     8.000000    36.000000   \n",
       "\n",
       "          BATHROOM  AMENITY_PARKING  LOCATION_Kathmandu  LOCATION_Lalitpur  \n",
       "count  2273.000000      2273.000000         2273.000000        2273.000000  \n",
       "mean      4.095908         0.918170            0.670040           0.329960  \n",
       "std       1.751646         0.274166            0.470302           0.470302  \n",
       "min       1.000000         0.000000            0.000000           0.000000  \n",
       "25%       3.000000         1.000000            0.000000           0.000000  \n",
       "50%       4.000000         1.000000            1.000000           0.000000  \n",
       "75%       5.000000         1.000000            1.000000           1.000000  \n",
       "max      34.000000         1.000000            1.000000           1.000000  "
      ]
     },
     "execution_count": 24,
     "metadata": {},
     "output_type": "execute_result"
    }
   ],
   "source": [
    "ds.describe()"
   ]
  },
  {
   "cell_type": "markdown",
   "id": "b574206d",
   "metadata": {},
   "source": [
    "# Build year"
   ]
  },
  {
   "cell_type": "code",
   "execution_count": 25,
   "id": "ec00e7c4",
   "metadata": {},
   "outputs": [],
   "source": [
    "# ds.head()"
   ]
  },
  {
   "cell_type": "code",
   "execution_count": 26,
   "id": "96061cec",
   "metadata": {},
   "outputs": [
    {
     "data": {
      "text/plain": [
       "array([2076, 2060, 2059, 2071, 2074, 2065, 2066, 2075, 2079, 2070, 2078,\n",
       "       2077, 2080, 2068, 2073, 2072, 2063, 2064, 2069, 2055, 2061, 2058,\n",
       "       2062, 2049, 2047, 2050, 2054, 2056, 2067, 2052, 2057, 2048],\n",
       "      dtype=int64)"
      ]
     },
     "execution_count": 26,
     "metadata": {},
     "output_type": "execute_result"
    }
   ],
   "source": [
    "#Split the value and take the first value / zero index value of Built year\n",
    "#Also convert it into integer\n",
    "ds['BUILT YEAR'] = ds['BUILT YEAR'].astype(str).apply(lambda x : int(x.strip().split()[0]))\n",
    "# print(ds['BUILT YEAR'])\n",
    "ds['BUILT YEAR'].unique()"
   ]
  },
  {
   "cell_type": "code",
   "execution_count": 27,
   "id": "767e3e6c",
   "metadata": {},
   "outputs": [
    {
     "data": {
      "text/html": [
       "<div>\n",
       "<style scoped>\n",
       "    .dataframe tbody tr th:only-of-type {\n",
       "        vertical-align: middle;\n",
       "    }\n",
       "\n",
       "    .dataframe tbody tr th {\n",
       "        vertical-align: top;\n",
       "    }\n",
       "\n",
       "    .dataframe thead th {\n",
       "        text-align: right;\n",
       "    }\n",
       "</style>\n",
       "<table border=\"1\" class=\"dataframe\">\n",
       "  <thead>\n",
       "    <tr style=\"text-align: right;\">\n",
       "      <th></th>\n",
       "      <th>PRICE</th>\n",
       "      <th>LAND AREA</th>\n",
       "      <th>ROAD ACCESS</th>\n",
       "      <th>FLOOR</th>\n",
       "      <th>BEDROOM</th>\n",
       "      <th>BATHROOM</th>\n",
       "      <th>BUILT YEAR</th>\n",
       "      <th>AMENITY_PARKING</th>\n",
       "      <th>LOCATION_Kathmandu</th>\n",
       "      <th>LOCATION_Lalitpur</th>\n",
       "    </tr>\n",
       "  </thead>\n",
       "  <tbody>\n",
       "    <tr>\n",
       "      <th>count</th>\n",
       "      <td>2.273000e+03</td>\n",
       "      <td>2272.000000</td>\n",
       "      <td>2273.000000</td>\n",
       "      <td>2273.000000</td>\n",
       "      <td>2273.000000</td>\n",
       "      <td>2273.000000</td>\n",
       "      <td>2273.000000</td>\n",
       "      <td>2273.000000</td>\n",
       "      <td>2273.000000</td>\n",
       "      <td>2273.000000</td>\n",
       "    </tr>\n",
       "    <tr>\n",
       "      <th>mean</th>\n",
       "      <td>3.994325e+07</td>\n",
       "      <td>6.984573</td>\n",
       "      <td>14.793445</td>\n",
       "      <td>2.667796</td>\n",
       "      <td>5.331280</td>\n",
       "      <td>4.095908</td>\n",
       "      <td>2072.229212</td>\n",
       "      <td>0.918170</td>\n",
       "      <td>0.670040</td>\n",
       "      <td>0.329960</td>\n",
       "    </tr>\n",
       "    <tr>\n",
       "      <th>std</th>\n",
       "      <td>2.620008e+07</td>\n",
       "      <td>100.635150</td>\n",
       "      <td>3.885055</td>\n",
       "      <td>0.685862</td>\n",
       "      <td>2.324807</td>\n",
       "      <td>1.751646</td>\n",
       "      <td>6.134553</td>\n",
       "      <td>0.274166</td>\n",
       "      <td>0.470302</td>\n",
       "      <td>0.470302</td>\n",
       "    </tr>\n",
       "    <tr>\n",
       "      <th>min</th>\n",
       "      <td>9.800000e+06</td>\n",
       "      <td>0.000000</td>\n",
       "      <td>0.000000</td>\n",
       "      <td>1.000000</td>\n",
       "      <td>1.000000</td>\n",
       "      <td>1.000000</td>\n",
       "      <td>2047.000000</td>\n",
       "      <td>0.000000</td>\n",
       "      <td>0.000000</td>\n",
       "      <td>0.000000</td>\n",
       "    </tr>\n",
       "    <tr>\n",
       "      <th>25%</th>\n",
       "      <td>2.500000e+07</td>\n",
       "      <td>3.200000</td>\n",
       "      <td>13.000000</td>\n",
       "      <td>2.500000</td>\n",
       "      <td>4.000000</td>\n",
       "      <td>3.000000</td>\n",
       "      <td>2070.000000</td>\n",
       "      <td>1.000000</td>\n",
       "      <td>0.000000</td>\n",
       "      <td>0.000000</td>\n",
       "    </tr>\n",
       "    <tr>\n",
       "      <th>50%</th>\n",
       "      <td>3.250000e+07</td>\n",
       "      <td>4.000000</td>\n",
       "      <td>13.000000</td>\n",
       "      <td>2.500000</td>\n",
       "      <td>5.000000</td>\n",
       "      <td>4.000000</td>\n",
       "      <td>2074.000000</td>\n",
       "      <td>1.000000</td>\n",
       "      <td>1.000000</td>\n",
       "      <td>0.000000</td>\n",
       "    </tr>\n",
       "    <tr>\n",
       "      <th>75%</th>\n",
       "      <td>4.500000e+07</td>\n",
       "      <td>5.200000</td>\n",
       "      <td>16.000000</td>\n",
       "      <td>2.500000</td>\n",
       "      <td>6.000000</td>\n",
       "      <td>5.000000</td>\n",
       "      <td>2076.000000</td>\n",
       "      <td>1.000000</td>\n",
       "      <td>1.000000</td>\n",
       "      <td>1.000000</td>\n",
       "    </tr>\n",
       "    <tr>\n",
       "      <th>max</th>\n",
       "      <td>3.250000e+08</td>\n",
       "      <td>4800.000000</td>\n",
       "      <td>36.000000</td>\n",
       "      <td>8.000000</td>\n",
       "      <td>36.000000</td>\n",
       "      <td>34.000000</td>\n",
       "      <td>2080.000000</td>\n",
       "      <td>1.000000</td>\n",
       "      <td>1.000000</td>\n",
       "      <td>1.000000</td>\n",
       "    </tr>\n",
       "  </tbody>\n",
       "</table>\n",
       "</div>"
      ],
      "text/plain": [
       "              PRICE    LAND AREA  ROAD ACCESS        FLOOR      BEDROOM  \\\n",
       "count  2.273000e+03  2272.000000  2273.000000  2273.000000  2273.000000   \n",
       "mean   3.994325e+07     6.984573    14.793445     2.667796     5.331280   \n",
       "std    2.620008e+07   100.635150     3.885055     0.685862     2.324807   \n",
       "min    9.800000e+06     0.000000     0.000000     1.000000     1.000000   \n",
       "25%    2.500000e+07     3.200000    13.000000     2.500000     4.000000   \n",
       "50%    3.250000e+07     4.000000    13.000000     2.500000     5.000000   \n",
       "75%    4.500000e+07     5.200000    16.000000     2.500000     6.000000   \n",
       "max    3.250000e+08  4800.000000    36.000000     8.000000    36.000000   \n",
       "\n",
       "          BATHROOM   BUILT YEAR  AMENITY_PARKING  LOCATION_Kathmandu  \\\n",
       "count  2273.000000  2273.000000      2273.000000         2273.000000   \n",
       "mean      4.095908  2072.229212         0.918170            0.670040   \n",
       "std       1.751646     6.134553         0.274166            0.470302   \n",
       "min       1.000000  2047.000000         0.000000            0.000000   \n",
       "25%       3.000000  2070.000000         1.000000            0.000000   \n",
       "50%       4.000000  2074.000000         1.000000            1.000000   \n",
       "75%       5.000000  2076.000000         1.000000            1.000000   \n",
       "max      34.000000  2080.000000         1.000000            1.000000   \n",
       "\n",
       "       LOCATION_Lalitpur  \n",
       "count        2273.000000  \n",
       "mean            0.329960  \n",
       "std             0.470302  \n",
       "min             0.000000  \n",
       "25%             0.000000  \n",
       "50%             0.000000  \n",
       "75%             1.000000  \n",
       "max             1.000000  "
      ]
     },
     "execution_count": 27,
     "metadata": {},
     "output_type": "execute_result"
    }
   ],
   "source": [
    "ds.describe()"
   ]
  },
  {
   "cell_type": "markdown",
   "id": "e7a5a603",
   "metadata": {},
   "source": [
    "# Facing"
   ]
  },
  {
   "cell_type": "code",
   "execution_count": 28,
   "id": "81233ccc",
   "metadata": {},
   "outputs": [],
   "source": [
    "# ds.head()"
   ]
  },
  {
   "cell_type": "code",
   "execution_count": 29,
   "id": "aaf601cd",
   "metadata": {},
   "outputs": [],
   "source": [
    "# #Change the facing value to upper case\n",
    "# facing = ds['FACING'].str.upper()\n",
    "# # facing.unique()\n",
    "\n",
    "# #Replace unwanted character(s) (-, /) into normal space\n",
    "# def facing_value(value):\n",
    "#     if pd.notna(value):\n",
    "#         return value.replace('-', ' ').replace('/', ' ')\n",
    "#     else:\n",
    "#         return value\n",
    "\n",
    "# ds['FACING'] = facing.apply(facing_value)\n",
    "    \n",
    "# ds['FACING'].unique()"
   ]
  },
  {
   "cell_type": "code",
   "execution_count": 30,
   "id": "ad846b4a",
   "metadata": {},
   "outputs": [],
   "source": [
    "# def common_facing(value):\n",
    "#     if value == 'WEST SOUTH':\n",
    "#         return 'SOUTH WEST'\n",
    "#     elif value == 'EAST SOUTH':\n",
    "#         return 'SOUTH EAST'\n",
    "#     elif value =='EAST NORTH':\n",
    "#         return 'NORTH EAST'\n",
    "#     elif value == 'WEST NORTH':\n",
    "#         return 'NORTH WEST'\n",
    "#     else:\n",
    "#         return value\n",
    "\n",
    "# ds['FACING'] = ds['FACING'].apply(common_facing)\n",
    "    \n",
    "# ds['FACING'].unique()"
   ]
  },
  {
   "cell_type": "code",
   "execution_count": 31,
   "id": "0d522955",
   "metadata": {},
   "outputs": [],
   "source": [
    "# ds.describe()"
   ]
  },
  {
   "cell_type": "markdown",
   "id": "208ba1ea",
   "metadata": {},
   "source": [
    "# Amenities"
   ]
  },
  {
   "cell_type": "code",
   "execution_count": 32,
   "id": "f2a22c1a",
   "metadata": {},
   "outputs": [],
   "source": [
    "# ds.head()"
   ]
  },
  {
   "cell_type": "code",
   "execution_count": 33,
   "id": "0ddecffb",
   "metadata": {},
   "outputs": [
    {
     "data": {
      "text/plain": [
       "0    ['Earthquake Resistant', 'Marbel', 'Parquet', ...\n",
       "1    ['Earthquake Resistant', 'Parquet', 'Drinking ...\n",
       "2    ['Earthquake Resistant', 'Marbel', 'Parquet', ...\n",
       "3    ['Earthquake Resistant', 'Marbel', 'Parquet', ...\n",
       "4    ['Earthquake Resistant', 'Parquet', 'Parking',...\n",
       "Name: AMENITIES, dtype: object"
      ]
     },
     "execution_count": 33,
     "metadata": {},
     "output_type": "execute_result"
    }
   ],
   "source": [
    "amenities_list = ds['AMENITIES']\n",
    "amenities_list.head()"
   ]
  },
  {
   "cell_type": "code",
   "execution_count": 34,
   "id": "6c4d4d25",
   "metadata": {},
   "outputs": [],
   "source": [
    "#Function to remove the unwanted characters from amenities column and change it into list\n",
    "def convert_amenities_to_list(amenity):\n",
    "    amenity = amenity.strip('][').replace(\"'\", \"\").split(\", \")\n",
    "    amenity = [x.upper() for x in amenity]\n",
    "    if (not amenity[0] == ''):\n",
    "        return amenity\n",
    "    else:\n",
    "        return([])\n",
    "    "
   ]
  },
  {
   "cell_type": "code",
   "execution_count": 35,
   "id": "4e5161d8",
   "metadata": {
    "scrolled": true
   },
   "outputs": [
    {
     "data": {
      "text/html": [
       "<div>\n",
       "<style scoped>\n",
       "    .dataframe tbody tr th:only-of-type {\n",
       "        vertical-align: middle;\n",
       "    }\n",
       "\n",
       "    .dataframe tbody tr th {\n",
       "        vertical-align: top;\n",
       "    }\n",
       "\n",
       "    .dataframe thead th {\n",
       "        text-align: right;\n",
       "    }\n",
       "</style>\n",
       "<table border=\"1\" class=\"dataframe\">\n",
       "  <thead>\n",
       "    <tr style=\"text-align: right;\">\n",
       "      <th></th>\n",
       "      <th>PRICE</th>\n",
       "      <th>LAND AREA</th>\n",
       "      <th>ROAD ACCESS</th>\n",
       "      <th>FLOOR</th>\n",
       "      <th>BEDROOM</th>\n",
       "      <th>BATHROOM</th>\n",
       "      <th>BUILT YEAR</th>\n",
       "      <th>AMENITIES</th>\n",
       "      <th>AMENITY_PARKING</th>\n",
       "      <th>LOCATION_Kathmandu</th>\n",
       "      <th>LOCATION_Lalitpur</th>\n",
       "    </tr>\n",
       "  </thead>\n",
       "  <tbody>\n",
       "    <tr>\n",
       "      <th>2712</th>\n",
       "      <td>47500000</td>\n",
       "      <td>6.0</td>\n",
       "      <td>18.0</td>\n",
       "      <td>2.5</td>\n",
       "      <td>5.0</td>\n",
       "      <td>6.0</td>\n",
       "      <td>2074</td>\n",
       "      <td>[BATHROOM, DRAINAGE, PARKING, PARQUET]</td>\n",
       "      <td>1</td>\n",
       "      <td>1</td>\n",
       "      <td>0</td>\n",
       "    </tr>\n",
       "    <tr>\n",
       "      <th>2582</th>\n",
       "      <td>22500000</td>\n",
       "      <td>4.1</td>\n",
       "      <td>12.0</td>\n",
       "      <td>2.5</td>\n",
       "      <td>5.0</td>\n",
       "      <td>3.0</td>\n",
       "      <td>2074</td>\n",
       "      <td>[MARBEL, DRAINAGE, POWER BACKUP, PARKING, DRIN...</td>\n",
       "      <td>1</td>\n",
       "      <td>0</td>\n",
       "      <td>1</td>\n",
       "    </tr>\n",
       "    <tr>\n",
       "      <th>2188</th>\n",
       "      <td>12000000</td>\n",
       "      <td>3.0</td>\n",
       "      <td>16.0</td>\n",
       "      <td>1.5</td>\n",
       "      <td>5.0</td>\n",
       "      <td>4.0</td>\n",
       "      <td>2072</td>\n",
       "      <td>[BATHROOM, PARKING, DRINKING WATER]</td>\n",
       "      <td>1</td>\n",
       "      <td>1</td>\n",
       "      <td>0</td>\n",
       "    </tr>\n",
       "    <tr>\n",
       "      <th>3288</th>\n",
       "      <td>28500000</td>\n",
       "      <td>3.7</td>\n",
       "      <td>13.0</td>\n",
       "      <td>3.5</td>\n",
       "      <td>6.0</td>\n",
       "      <td>3.0</td>\n",
       "      <td>2079</td>\n",
       "      <td>[]</td>\n",
       "      <td>1</td>\n",
       "      <td>1</td>\n",
       "      <td>0</td>\n",
       "    </tr>\n",
       "    <tr>\n",
       "      <th>1491</th>\n",
       "      <td>45000000</td>\n",
       "      <td>6.1</td>\n",
       "      <td>12.0</td>\n",
       "      <td>2.5</td>\n",
       "      <td>6.0</td>\n",
       "      <td>3.0</td>\n",
       "      <td>2076</td>\n",
       "      <td>[GARDEN, DRAINAGE, BATHROOM, DRINKING WATER, P...</td>\n",
       "      <td>1</td>\n",
       "      <td>0</td>\n",
       "      <td>1</td>\n",
       "    </tr>\n",
       "  </tbody>\n",
       "</table>\n",
       "</div>"
      ],
      "text/plain": [
       "         PRICE  LAND AREA  ROAD ACCESS  FLOOR  BEDROOM  BATHROOM  BUILT YEAR  \\\n",
       "2712  47500000        6.0         18.0    2.5      5.0       6.0        2074   \n",
       "2582  22500000        4.1         12.0    2.5      5.0       3.0        2074   \n",
       "2188  12000000        3.0         16.0    1.5      5.0       4.0        2072   \n",
       "3288  28500000        3.7         13.0    3.5      6.0       3.0        2079   \n",
       "1491  45000000        6.1         12.0    2.5      6.0       3.0        2076   \n",
       "\n",
       "                                              AMENITIES  AMENITY_PARKING  \\\n",
       "2712             [BATHROOM, DRAINAGE, PARKING, PARQUET]                1   \n",
       "2582  [MARBEL, DRAINAGE, POWER BACKUP, PARKING, DRIN...                1   \n",
       "2188                [BATHROOM, PARKING, DRINKING WATER]                1   \n",
       "3288                                                 []                1   \n",
       "1491  [GARDEN, DRAINAGE, BATHROOM, DRINKING WATER, P...                1   \n",
       "\n",
       "      LOCATION_Kathmandu  LOCATION_Lalitpur  \n",
       "2712                   1                  0  \n",
       "2582                   0                  1  \n",
       "2188                   1                  0  \n",
       "3288                   1                  0  \n",
       "1491                   0                  1  "
      ]
     },
     "execution_count": 35,
     "metadata": {},
     "output_type": "execute_result"
    }
   ],
   "source": [
    "ds['AMENITIES'] = ds['AMENITIES'].apply(convert_amenities_to_list)\n",
    "ds.sample(5)"
   ]
  },
  {
   "cell_type": "code",
   "execution_count": 36,
   "id": "433d166c",
   "metadata": {},
   "outputs": [],
   "source": [
    "#Extract the most common amenities and set 1 for presence else 0\n",
    "common_amenities = ['DRAINAGE', 'GARDEN', 'EARTHQUACK RESISTANT', 'DRINKING WATER', 'POWER BACKUP', 'RESERVE TANK', 'MODULAR KITCHEN', 'WATER WELL', 'MARBEL', 'PARQUET']\n",
    "\n",
    "for index in ds.index:\n",
    "    amenity_of_property = ds.loc[index, \"AMENITIES\"]\n",
    "    for amenity in amenity_of_property:\n",
    "        if amenity in common_amenities:\n",
    "            amenity = amenity.strip().replace(\" \", \"_\")\n",
    "            ds.loc[index, \"AMENITY_\" + amenity.upper()] = 1\n",
    "\n",
    "# Fill NaN values with 0 \n",
    "ds.update(ds.filter(like='AMENITY_').fillna(0))\n",
    "\n",
    "# Convert the columns to integer data type (1 or 0)\n",
    "ds = ds.astype({col: int for col in ds.columns if col.startswith(\"AMENITY_\")})\n",
    "\n",
    "# Drop the original \"AMENITIES\" column \n",
    "ds = ds.drop(columns=['AMENITIES'])\n"
   ]
  },
  {
   "cell_type": "code",
   "execution_count": 37,
   "id": "35fdb029",
   "metadata": {},
   "outputs": [
    {
     "data": {
      "text/html": [
       "<div>\n",
       "<style scoped>\n",
       "    .dataframe tbody tr th:only-of-type {\n",
       "        vertical-align: middle;\n",
       "    }\n",
       "\n",
       "    .dataframe tbody tr th {\n",
       "        vertical-align: top;\n",
       "    }\n",
       "\n",
       "    .dataframe thead th {\n",
       "        text-align: right;\n",
       "    }\n",
       "</style>\n",
       "<table border=\"1\" class=\"dataframe\">\n",
       "  <thead>\n",
       "    <tr style=\"text-align: right;\">\n",
       "      <th></th>\n",
       "      <th>PRICE</th>\n",
       "      <th>LAND AREA</th>\n",
       "      <th>ROAD ACCESS</th>\n",
       "      <th>FLOOR</th>\n",
       "      <th>BEDROOM</th>\n",
       "      <th>BATHROOM</th>\n",
       "      <th>BUILT YEAR</th>\n",
       "      <th>AMENITY_PARKING</th>\n",
       "      <th>LOCATION_Kathmandu</th>\n",
       "      <th>LOCATION_Lalitpur</th>\n",
       "      <th>AMENITY_MARBEL</th>\n",
       "      <th>AMENITY_PARQUET</th>\n",
       "      <th>AMENITY_DRINKING_WATER</th>\n",
       "      <th>AMENITY_MODULAR_KITCHEN</th>\n",
       "      <th>AMENITY_GARDEN</th>\n",
       "      <th>AMENITY_DRAINAGE</th>\n",
       "      <th>AMENITY_POWER_BACKUP</th>\n",
       "      <th>AMENITY_RESERVE_TANK</th>\n",
       "      <th>AMENITY_WATER_WELL</th>\n",
       "    </tr>\n",
       "  </thead>\n",
       "  <tbody>\n",
       "    <tr>\n",
       "      <th>0</th>\n",
       "      <td>29000000</td>\n",
       "      <td>4.0</td>\n",
       "      <td>12.0</td>\n",
       "      <td>3.0</td>\n",
       "      <td>5.0</td>\n",
       "      <td>4.0</td>\n",
       "      <td>2076</td>\n",
       "      <td>1</td>\n",
       "      <td>0</td>\n",
       "      <td>1</td>\n",
       "      <td>1</td>\n",
       "      <td>1</td>\n",
       "      <td>1</td>\n",
       "      <td>1</td>\n",
       "      <td>0</td>\n",
       "      <td>0</td>\n",
       "      <td>0</td>\n",
       "      <td>0</td>\n",
       "      <td>0</td>\n",
       "    </tr>\n",
       "    <tr>\n",
       "      <th>1</th>\n",
       "      <td>47500000</td>\n",
       "      <td>3.0</td>\n",
       "      <td>10.0</td>\n",
       "      <td>4.5</td>\n",
       "      <td>5.0</td>\n",
       "      <td>6.0</td>\n",
       "      <td>2076</td>\n",
       "      <td>1</td>\n",
       "      <td>0</td>\n",
       "      <td>1</td>\n",
       "      <td>0</td>\n",
       "      <td>1</td>\n",
       "      <td>1</td>\n",
       "      <td>1</td>\n",
       "      <td>0</td>\n",
       "      <td>0</td>\n",
       "      <td>0</td>\n",
       "      <td>0</td>\n",
       "      <td>0</td>\n",
       "    </tr>\n",
       "    <tr>\n",
       "      <th>2</th>\n",
       "      <td>19900000</td>\n",
       "      <td>2.3</td>\n",
       "      <td>10.0</td>\n",
       "      <td>2.5</td>\n",
       "      <td>4.0</td>\n",
       "      <td>4.0</td>\n",
       "      <td>2060</td>\n",
       "      <td>1</td>\n",
       "      <td>0</td>\n",
       "      <td>1</td>\n",
       "      <td>1</td>\n",
       "      <td>1</td>\n",
       "      <td>1</td>\n",
       "      <td>1</td>\n",
       "      <td>0</td>\n",
       "      <td>0</td>\n",
       "      <td>0</td>\n",
       "      <td>0</td>\n",
       "      <td>0</td>\n",
       "    </tr>\n",
       "    <tr>\n",
       "      <th>3</th>\n",
       "      <td>40000000</td>\n",
       "      <td>7.0</td>\n",
       "      <td>12.0</td>\n",
       "      <td>2.5</td>\n",
       "      <td>4.0</td>\n",
       "      <td>3.0</td>\n",
       "      <td>2059</td>\n",
       "      <td>1</td>\n",
       "      <td>0</td>\n",
       "      <td>1</td>\n",
       "      <td>1</td>\n",
       "      <td>1</td>\n",
       "      <td>1</td>\n",
       "      <td>1</td>\n",
       "      <td>1</td>\n",
       "      <td>0</td>\n",
       "      <td>0</td>\n",
       "      <td>0</td>\n",
       "      <td>0</td>\n",
       "    </tr>\n",
       "    <tr>\n",
       "      <th>4</th>\n",
       "      <td>12000000</td>\n",
       "      <td>6.0</td>\n",
       "      <td>20.0</td>\n",
       "      <td>2.0</td>\n",
       "      <td>4.0</td>\n",
       "      <td>4.0</td>\n",
       "      <td>2071</td>\n",
       "      <td>1</td>\n",
       "      <td>1</td>\n",
       "      <td>0</td>\n",
       "      <td>0</td>\n",
       "      <td>1</td>\n",
       "      <td>1</td>\n",
       "      <td>1</td>\n",
       "      <td>0</td>\n",
       "      <td>0</td>\n",
       "      <td>0</td>\n",
       "      <td>0</td>\n",
       "      <td>0</td>\n",
       "    </tr>\n",
       "  </tbody>\n",
       "</table>\n",
       "</div>"
      ],
      "text/plain": [
       "      PRICE  LAND AREA  ROAD ACCESS  FLOOR  BEDROOM  BATHROOM  BUILT YEAR  \\\n",
       "0  29000000        4.0         12.0    3.0      5.0       4.0        2076   \n",
       "1  47500000        3.0         10.0    4.5      5.0       6.0        2076   \n",
       "2  19900000        2.3         10.0    2.5      4.0       4.0        2060   \n",
       "3  40000000        7.0         12.0    2.5      4.0       3.0        2059   \n",
       "4  12000000        6.0         20.0    2.0      4.0       4.0        2071   \n",
       "\n",
       "   AMENITY_PARKING  LOCATION_Kathmandu  LOCATION_Lalitpur  AMENITY_MARBEL  \\\n",
       "0                1                   0                  1               1   \n",
       "1                1                   0                  1               0   \n",
       "2                1                   0                  1               1   \n",
       "3                1                   0                  1               1   \n",
       "4                1                   1                  0               0   \n",
       "\n",
       "   AMENITY_PARQUET  AMENITY_DRINKING_WATER  AMENITY_MODULAR_KITCHEN  \\\n",
       "0                1                       1                        1   \n",
       "1                1                       1                        1   \n",
       "2                1                       1                        1   \n",
       "3                1                       1                        1   \n",
       "4                1                       1                        1   \n",
       "\n",
       "   AMENITY_GARDEN  AMENITY_DRAINAGE  AMENITY_POWER_BACKUP  \\\n",
       "0               0                 0                     0   \n",
       "1               0                 0                     0   \n",
       "2               0                 0                     0   \n",
       "3               1                 0                     0   \n",
       "4               0                 0                     0   \n",
       "\n",
       "   AMENITY_RESERVE_TANK  AMENITY_WATER_WELL  \n",
       "0                     0                   0  \n",
       "1                     0                   0  \n",
       "2                     0                   0  \n",
       "3                     0                   0  \n",
       "4                     0                   0  "
      ]
     },
     "execution_count": 37,
     "metadata": {},
     "output_type": "execute_result"
    }
   ],
   "source": [
    "ds.head()"
   ]
  },
  {
   "cell_type": "code",
   "execution_count": 38,
   "id": "aa55d6db",
   "metadata": {},
   "outputs": [],
   "source": [
    "ds.dropna(inplace=True)"
   ]
  },
  {
   "cell_type": "code",
   "execution_count": 39,
   "id": "eaa3555a",
   "metadata": {},
   "outputs": [
    {
     "data": {
      "text/html": [
       "<div>\n",
       "<style scoped>\n",
       "    .dataframe tbody tr th:only-of-type {\n",
       "        vertical-align: middle;\n",
       "    }\n",
       "\n",
       "    .dataframe tbody tr th {\n",
       "        vertical-align: top;\n",
       "    }\n",
       "\n",
       "    .dataframe thead th {\n",
       "        text-align: right;\n",
       "    }\n",
       "</style>\n",
       "<table border=\"1\" class=\"dataframe\">\n",
       "  <thead>\n",
       "    <tr style=\"text-align: right;\">\n",
       "      <th></th>\n",
       "      <th>PRICE</th>\n",
       "      <th>LAND AREA</th>\n",
       "      <th>ROAD ACCESS</th>\n",
       "      <th>FLOOR</th>\n",
       "      <th>BEDROOM</th>\n",
       "      <th>BATHROOM</th>\n",
       "      <th>BUILT YEAR</th>\n",
       "      <th>AMENITY_PARKING</th>\n",
       "      <th>LOCATION_Kathmandu</th>\n",
       "      <th>LOCATION_Lalitpur</th>\n",
       "      <th>AMENITY_MARBEL</th>\n",
       "      <th>AMENITY_PARQUET</th>\n",
       "      <th>AMENITY_DRINKING_WATER</th>\n",
       "      <th>AMENITY_MODULAR_KITCHEN</th>\n",
       "      <th>AMENITY_GARDEN</th>\n",
       "      <th>AMENITY_DRAINAGE</th>\n",
       "      <th>AMENITY_POWER_BACKUP</th>\n",
       "      <th>AMENITY_RESERVE_TANK</th>\n",
       "      <th>AMENITY_WATER_WELL</th>\n",
       "    </tr>\n",
       "  </thead>\n",
       "  <tbody>\n",
       "    <tr>\n",
       "      <th>count</th>\n",
       "      <td>2.272000e+03</td>\n",
       "      <td>2272.000000</td>\n",
       "      <td>2272.000000</td>\n",
       "      <td>2272.00000</td>\n",
       "      <td>2272.000000</td>\n",
       "      <td>2272.000000</td>\n",
       "      <td>2272.000000</td>\n",
       "      <td>2272.000000</td>\n",
       "      <td>2272.000000</td>\n",
       "      <td>2272.000000</td>\n",
       "      <td>2272.000000</td>\n",
       "      <td>2272.000000</td>\n",
       "      <td>2272.000000</td>\n",
       "      <td>2272.000000</td>\n",
       "      <td>2272.000000</td>\n",
       "      <td>2272.000000</td>\n",
       "      <td>2272.000000</td>\n",
       "      <td>2272.000000</td>\n",
       "      <td>2272.000000</td>\n",
       "    </tr>\n",
       "    <tr>\n",
       "      <th>mean</th>\n",
       "      <td>3.994344e+07</td>\n",
       "      <td>6.984573</td>\n",
       "      <td>14.795555</td>\n",
       "      <td>2.66743</td>\n",
       "      <td>5.329665</td>\n",
       "      <td>4.095951</td>\n",
       "      <td>2072.236356</td>\n",
       "      <td>0.918574</td>\n",
       "      <td>0.669894</td>\n",
       "      <td>0.330106</td>\n",
       "      <td>0.394366</td>\n",
       "      <td>0.215229</td>\n",
       "      <td>0.764525</td>\n",
       "      <td>0.162412</td>\n",
       "      <td>0.216549</td>\n",
       "      <td>0.834067</td>\n",
       "      <td>0.350352</td>\n",
       "      <td>0.083627</td>\n",
       "      <td>0.064261</td>\n",
       "    </tr>\n",
       "    <tr>\n",
       "      <th>std</th>\n",
       "      <td>2.620585e+07</td>\n",
       "      <td>100.635150</td>\n",
       "      <td>3.884607</td>\n",
       "      <td>0.68579</td>\n",
       "      <td>2.324044</td>\n",
       "      <td>1.752030</td>\n",
       "      <td>6.126441</td>\n",
       "      <td>0.273549</td>\n",
       "      <td>0.470354</td>\n",
       "      <td>0.470354</td>\n",
       "      <td>0.488822</td>\n",
       "      <td>0.411072</td>\n",
       "      <td>0.424389</td>\n",
       "      <td>0.368910</td>\n",
       "      <td>0.411983</td>\n",
       "      <td>0.372102</td>\n",
       "      <td>0.477185</td>\n",
       "      <td>0.276888</td>\n",
       "      <td>0.245271</td>\n",
       "    </tr>\n",
       "    <tr>\n",
       "      <th>min</th>\n",
       "      <td>9.800000e+06</td>\n",
       "      <td>0.000000</td>\n",
       "      <td>0.000000</td>\n",
       "      <td>1.00000</td>\n",
       "      <td>1.000000</td>\n",
       "      <td>1.000000</td>\n",
       "      <td>2047.000000</td>\n",
       "      <td>0.000000</td>\n",
       "      <td>0.000000</td>\n",
       "      <td>0.000000</td>\n",
       "      <td>0.000000</td>\n",
       "      <td>0.000000</td>\n",
       "      <td>0.000000</td>\n",
       "      <td>0.000000</td>\n",
       "      <td>0.000000</td>\n",
       "      <td>0.000000</td>\n",
       "      <td>0.000000</td>\n",
       "      <td>0.000000</td>\n",
       "      <td>0.000000</td>\n",
       "    </tr>\n",
       "    <tr>\n",
       "      <th>25%</th>\n",
       "      <td>2.500000e+07</td>\n",
       "      <td>3.200000</td>\n",
       "      <td>13.000000</td>\n",
       "      <td>2.50000</td>\n",
       "      <td>4.000000</td>\n",
       "      <td>3.000000</td>\n",
       "      <td>2070.000000</td>\n",
       "      <td>1.000000</td>\n",
       "      <td>0.000000</td>\n",
       "      <td>0.000000</td>\n",
       "      <td>0.000000</td>\n",
       "      <td>0.000000</td>\n",
       "      <td>1.000000</td>\n",
       "      <td>0.000000</td>\n",
       "      <td>0.000000</td>\n",
       "      <td>1.000000</td>\n",
       "      <td>0.000000</td>\n",
       "      <td>0.000000</td>\n",
       "      <td>0.000000</td>\n",
       "    </tr>\n",
       "    <tr>\n",
       "      <th>50%</th>\n",
       "      <td>3.250000e+07</td>\n",
       "      <td>4.000000</td>\n",
       "      <td>13.000000</td>\n",
       "      <td>2.50000</td>\n",
       "      <td>5.000000</td>\n",
       "      <td>4.000000</td>\n",
       "      <td>2074.000000</td>\n",
       "      <td>1.000000</td>\n",
       "      <td>1.000000</td>\n",
       "      <td>0.000000</td>\n",
       "      <td>0.000000</td>\n",
       "      <td>0.000000</td>\n",
       "      <td>1.000000</td>\n",
       "      <td>0.000000</td>\n",
       "      <td>0.000000</td>\n",
       "      <td>1.000000</td>\n",
       "      <td>0.000000</td>\n",
       "      <td>0.000000</td>\n",
       "      <td>0.000000</td>\n",
       "    </tr>\n",
       "    <tr>\n",
       "      <th>75%</th>\n",
       "      <td>4.500000e+07</td>\n",
       "      <td>5.200000</td>\n",
       "      <td>16.000000</td>\n",
       "      <td>2.50000</td>\n",
       "      <td>6.000000</td>\n",
       "      <td>5.000000</td>\n",
       "      <td>2076.000000</td>\n",
       "      <td>1.000000</td>\n",
       "      <td>1.000000</td>\n",
       "      <td>1.000000</td>\n",
       "      <td>1.000000</td>\n",
       "      <td>0.000000</td>\n",
       "      <td>1.000000</td>\n",
       "      <td>0.000000</td>\n",
       "      <td>0.000000</td>\n",
       "      <td>1.000000</td>\n",
       "      <td>1.000000</td>\n",
       "      <td>0.000000</td>\n",
       "      <td>0.000000</td>\n",
       "    </tr>\n",
       "    <tr>\n",
       "      <th>max</th>\n",
       "      <td>3.250000e+08</td>\n",
       "      <td>4800.000000</td>\n",
       "      <td>36.000000</td>\n",
       "      <td>8.00000</td>\n",
       "      <td>36.000000</td>\n",
       "      <td>34.000000</td>\n",
       "      <td>2080.000000</td>\n",
       "      <td>1.000000</td>\n",
       "      <td>1.000000</td>\n",
       "      <td>1.000000</td>\n",
       "      <td>1.000000</td>\n",
       "      <td>1.000000</td>\n",
       "      <td>1.000000</td>\n",
       "      <td>1.000000</td>\n",
       "      <td>1.000000</td>\n",
       "      <td>1.000000</td>\n",
       "      <td>1.000000</td>\n",
       "      <td>1.000000</td>\n",
       "      <td>1.000000</td>\n",
       "    </tr>\n",
       "  </tbody>\n",
       "</table>\n",
       "</div>"
      ],
      "text/plain": [
       "              PRICE    LAND AREA  ROAD ACCESS       FLOOR      BEDROOM  \\\n",
       "count  2.272000e+03  2272.000000  2272.000000  2272.00000  2272.000000   \n",
       "mean   3.994344e+07     6.984573    14.795555     2.66743     5.329665   \n",
       "std    2.620585e+07   100.635150     3.884607     0.68579     2.324044   \n",
       "min    9.800000e+06     0.000000     0.000000     1.00000     1.000000   \n",
       "25%    2.500000e+07     3.200000    13.000000     2.50000     4.000000   \n",
       "50%    3.250000e+07     4.000000    13.000000     2.50000     5.000000   \n",
       "75%    4.500000e+07     5.200000    16.000000     2.50000     6.000000   \n",
       "max    3.250000e+08  4800.000000    36.000000     8.00000    36.000000   \n",
       "\n",
       "          BATHROOM   BUILT YEAR  AMENITY_PARKING  LOCATION_Kathmandu  \\\n",
       "count  2272.000000  2272.000000      2272.000000         2272.000000   \n",
       "mean      4.095951  2072.236356         0.918574            0.669894   \n",
       "std       1.752030     6.126441         0.273549            0.470354   \n",
       "min       1.000000  2047.000000         0.000000            0.000000   \n",
       "25%       3.000000  2070.000000         1.000000            0.000000   \n",
       "50%       4.000000  2074.000000         1.000000            1.000000   \n",
       "75%       5.000000  2076.000000         1.000000            1.000000   \n",
       "max      34.000000  2080.000000         1.000000            1.000000   \n",
       "\n",
       "       LOCATION_Lalitpur  AMENITY_MARBEL  AMENITY_PARQUET  \\\n",
       "count        2272.000000     2272.000000      2272.000000   \n",
       "mean            0.330106        0.394366         0.215229   \n",
       "std             0.470354        0.488822         0.411072   \n",
       "min             0.000000        0.000000         0.000000   \n",
       "25%             0.000000        0.000000         0.000000   \n",
       "50%             0.000000        0.000000         0.000000   \n",
       "75%             1.000000        1.000000         0.000000   \n",
       "max             1.000000        1.000000         1.000000   \n",
       "\n",
       "       AMENITY_DRINKING_WATER  AMENITY_MODULAR_KITCHEN  AMENITY_GARDEN  \\\n",
       "count             2272.000000              2272.000000     2272.000000   \n",
       "mean                 0.764525                 0.162412        0.216549   \n",
       "std                  0.424389                 0.368910        0.411983   \n",
       "min                  0.000000                 0.000000        0.000000   \n",
       "25%                  1.000000                 0.000000        0.000000   \n",
       "50%                  1.000000                 0.000000        0.000000   \n",
       "75%                  1.000000                 0.000000        0.000000   \n",
       "max                  1.000000                 1.000000        1.000000   \n",
       "\n",
       "       AMENITY_DRAINAGE  AMENITY_POWER_BACKUP  AMENITY_RESERVE_TANK  \\\n",
       "count       2272.000000           2272.000000           2272.000000   \n",
       "mean           0.834067              0.350352              0.083627   \n",
       "std            0.372102              0.477185              0.276888   \n",
       "min            0.000000              0.000000              0.000000   \n",
       "25%            1.000000              0.000000              0.000000   \n",
       "50%            1.000000              0.000000              0.000000   \n",
       "75%            1.000000              1.000000              0.000000   \n",
       "max            1.000000              1.000000              1.000000   \n",
       "\n",
       "       AMENITY_WATER_WELL  \n",
       "count         2272.000000  \n",
       "mean             0.064261  \n",
       "std              0.245271  \n",
       "min              0.000000  \n",
       "25%              0.000000  \n",
       "50%              0.000000  \n",
       "75%              0.000000  \n",
       "max              1.000000  "
      ]
     },
     "execution_count": 39,
     "metadata": {},
     "output_type": "execute_result"
    }
   ],
   "source": [
    "ds.describe()"
   ]
  },
  {
   "cell_type": "code",
   "execution_count": 40,
   "id": "84ad5829",
   "metadata": {},
   "outputs": [
    {
     "data": {
      "text/plain": [
       "<Axes: >"
      ]
     },
     "execution_count": 40,
     "metadata": {},
     "output_type": "execute_result"
    },
    {
     "data": {
      "image/png": "[encoded data removed]",
      "text/plain": [
       "<Figure size 640x480 with 2 Axes>"
      ]
     },
     "metadata": {},
     "output_type": "display_data"
    }
   ],
   "source": [
    "#Check for presence of null values in the newly cleaned data\n",
    "sns.heatmap(ds.isnull())\n"
   ]
  },
  {
   "cell_type": "code",
   "execution_count": 41,
   "id": "a5985b1e",
   "metadata": {},
   "outputs": [
    {
     "name": "stdout",
     "output_type": "stream",
     "text": [
      "Mean RMSE: 332402278.10\n",
      "Standard Deviation of RMSE: 612474076.18\n"
     ]
    }
   ],
   "source": [
    "X = ds.drop('PRICE', axis=1)\n",
    "y = ds['PRICE']\n",
    "\n",
    "# Initialize the linear regression model\n",
    "model = LinearRegression()\n",
    "\n",
    "# Perform k-fold cross-validation\n",
    "k = 5  # You can set the desired number of folds\n",
    "scores = cross_val_score(model, X, y, scoring='neg_mean_squared_error', cv=k)\n",
    "\n",
    "# Calculate the root mean squared error (RMSE) from the negative mean squared error\n",
    "rmse_scores = np.sqrt(-scores)\n",
    "\n",
    "# Print the mean RMSE and the standard deviation of RMSE scores\n",
    "print(\"Mean RMSE: {:.2f}\".format(np.mean(rmse_scores)))\n",
    "print(\"Standard Deviation of RMSE: {:.2f}\".format(np.std(rmse_scores)))"
   ]
  },
  {
   "cell_type": "markdown",
   "id": "0ab69600",
   "metadata": {},
   "source": [
    "# Train test split"
   ]
  },
  {
   "cell_type": "code",
   "execution_count": 42,
   "id": "04f525c2",
   "metadata": {},
   "outputs": [],
   "source": [
    "# x = ds.drop('PRICE', axis=1)\n",
    "# y = ds['PRICE']\n",
    "\n",
    "# x_train, x_test, y_train, y_test = train_test_split(x, y, test_size=.20)\n"
   ]
  },
  {
   "cell_type": "markdown",
   "id": "4f630d90",
   "metadata": {},
   "source": [
    "# Training and Predicting"
   ]
  },
  {
   "cell_type": "code",
   "execution_count": 43,
   "id": "e702737a",
   "metadata": {},
   "outputs": [],
   "source": [
    "# x = ds.drop('PRICE', axis=1)\n",
    "# y = ds['PRICE']\n",
    "\n",
    "# # Split the data into training and testing sets\n",
    "# x_train, x_test, y_train, y_test = train_test_split(x, y, test_size=.10)\n",
    "\n",
    "# # Train the linear regression model\n",
    "# model = LinearRegression()\n",
    "# model.fit(x_train, y_train)\n",
    "\n",
    "# # Make predictions on the test set\n",
    "# predictions = model.predict(x_test)\n",
    "\n",
    "# # Calculate evaluation metrics\n",
    "# mae = metrics.mean_absolute_error(y_test, predictions)\n",
    "# mse = metrics.mean_squared_error(y_test, predictions)\n",
    "# rmse = np.sqrt(mse)\n",
    "# r_squared = metrics.r2_score(y_test, predictions)\n",
    "\n",
    "# # Convert R-squared to percentage\n",
    "# r_squared_percentage = r_squared * 100\n",
    "\n",
    "# # Print the evaluation metrics\n",
    "# print(\"Mean Absolute Error:\", mae)\n",
    "# print(\"Mean Squared Error:\", mse)\n",
    "# print(\"Root Mean Squared Error:\", rmse)\n",
    "# print(\"R-squared:\", r_squared)\n",
    "# print(\"R-squared (Percentage): {:.2f}%\".format(r_squared_percentage))"
   ]
  },
  {
   "cell_type": "code",
   "execution_count": 44,
   "id": "87da341f",
   "metadata": {},
   "outputs": [],
   "source": [
    "# from sklearn.tree import DecisionTreeRegressor\n",
    "# from sklearn.linear_model import BayesianRidge, ElasticNet\n",
    "\n",
    "# X = ds.drop('PRICE', axis=1)\n",
    "# y = ds['PRICE']\n",
    "\n",
    "# scaler = StandardScaler()\n",
    "# X_scaled = scaler.fit_transform(X)\n",
    "\n",
    "# # # Create a KFold object with desired number of folds\n",
    "# kfold = KFold(n_splits=5, shuffle=True, random_state=42)\n",
    "\n",
    "# # Initialize the additional models\n",
    "# models = {\n",
    "#     'Random Forest Regressor': RandomForestRegressor(),\n",
    "#     'Gradient Boosting Regressor': GradientBoostingRegressor(),\n",
    "#     'Linear Regression': LinearRegression(),\n",
    "#     'Lasso Regression': Lasso(),\n",
    "#     'Ridge Regression': Ridge(),\n",
    "#     'Support Vector Regression': SVR(),\n",
    "#     'K-Nearest Neighbors Regression': KNeighborsRegressor(),\n",
    "#     'Decision Tree Regressor': DecisionTreeRegressor(),\n",
    "#     'Bayesian Ridge Regression': BayesianRidge(),\n",
    "#     'ElasticNet Regression': ElasticNet()\n",
    "# }\n",
    "\n",
    "# # Dictionary to store the R2 scores for each model\n",
    "# r2_scores = {}\n",
    "\n",
    "# # Loop over each model, train, evaluate and store the R2 scores\n",
    "# for model_name, model in models.items():\n",
    "#     scores = cross_val_score(model, X_scaled, y, cv=kfold, scoring='r2')\n",
    "#     r2_mean, r2_std = scores.mean(), scores.std()\n",
    "#     r2_scores[model_name] = (r2_mean, r2_std)\n",
    "\n",
    "# # Print the R2 scores for each model\n",
    "# for model_name, (r2_mean, r2_std) in r2_scores.items():\n",
    "#     print(f\"{model_name}:\\nR-squared (R2): {r2_mean:.2f} (+/- {r2_std:.2f})\")\n"
   ]
  },
  {
   "cell_type": "code",
   "execution_count": 45,
   "id": "410ece66",
   "metadata": {
    "scrolled": true
   },
   "outputs": [],
   "source": [
    "# from sklearn.model_selection import cross_val_score\n",
    "# from sklearn.ensemble import RandomForestRegressor, GradientBoostingRegressor, AdaBoostRegressor, ExtraTreesRegressor\n",
    "# from xgboost import XGBRegressor\n",
    "# from lightgbm import LGBMRegressor\n",
    "# from catboost import CatBoostRegressor\n",
    "# from sklearn.linear_model import HuberRegressor, PassiveAggressiveRegressor\n",
    "# from sklearn.linear_model import OrthogonalMatchingPursuit\n",
    "\n",
    "# X = ds.drop('PRICE', axis=1)\n",
    "# y = ds['PRICE']\n",
    "\n",
    "# # scaler = StandardScaler()\n",
    "# # X_scaled = scaler.fit_transform(X)\n",
    "\n",
    "# # # Create a KFold object with desired number of folds\n",
    "# kfold = KFold(n_splits=5, shuffle=True, random_state=42)\n",
    "\n",
    "# # Initialize all the regression models\n",
    "# models = {\n",
    "#     'RandomForest': RandomForestRegressor(),\n",
    "#     'GradientBoosting': GradientBoostingRegressor(),\n",
    "#     'AdaBoost': AdaBoostRegressor(),\n",
    "#     'ExtraTrees': ExtraTreesRegressor(),\n",
    "#     'XGBoost': XGBRegressor(),\n",
    "#     'LightGBM': LGBMRegressor(),\n",
    "#     'CatBoost': CatBoostRegressor(silent=True),  # Set silent=True to avoid output\n",
    "#     'Huber': HuberRegressor(),\n",
    "#     'PassiveAggressive': PassiveAggressiveRegressor(),\n",
    "#     'OrthogonalMatchingPursuit': OrthogonalMatchingPursuit(),\n",
    "# }\n",
    "\n",
    "# # Evaluate each model using k-fold cross-validation\n",
    "# for model_name, model in models.items():\n",
    "#     scores = cross_val_score(model, X, y, cv=kfold, scoring='r2')\n",
    "#     mean_score, std_score = scores.mean(), scores.std()\n",
    "#     print(f'{model_name} R2 Accuracy: {mean_score * 100:.4f} (Std: {std_score:.4f})')\n"
   ]
  },
  {
   "cell_type": "code",
   "execution_count": 46,
   "id": "b5306deb",
   "metadata": {},
   "outputs": [
    {
     "name": "stdout",
     "output_type": "stream",
     "text": [
      "Random Forest Regressor:\n",
      "Root Mean Squared Error: 14379327.551123714\n",
      "R-squared: 0.5429858704757181\n",
      "\n",
      "Gradient Boosting Regressor:\n",
      "Root Mean Squared Error: 13115653.061232407\n",
      "R-squared: 0.6197823143340079\n",
      "\n",
      "CatBoost Regressor:\n",
      "Root Mean Squared Error: 12973274.190239057\n",
      "R-squared: 0.6279925238585696\n"
     ]
    }
   ],
   "source": [
    "import numpy as np\n",
    "from sklearn.model_selection import train_test_split\n",
    "from sklearn.preprocessing import StandardScaler\n",
    "from sklearn.metrics import mean_squared_error, r2_score\n",
    "from sklearn.ensemble import RandomForestRegressor, GradientBoostingRegressor\n",
    "from catboost import CatBoostRegressor\n",
    "\n",
    "X = ds.drop('PRICE', axis=1)\n",
    "y = ds['PRICE']\n",
    "\n",
    "\n",
    "# Assuming your dataset is stored in X and y (features and target)\n",
    "# Split the dataset into training and testing sets\n",
    "X_train, X_test, y_train, y_test = train_test_split(X, y, test_size=0.2, random_state=42)\n",
    "\n",
    "# Standardize the features (not required for tree-based models, but we'll do it for consistency)\n",
    "scaler = StandardScaler()\n",
    "X_train_scaled = scaler.fit_transform(X_train)\n",
    "X_test_scaled = scaler.transform(X_test)\n",
    "\n",
    "# Random Forest Regressor\n",
    "rf_regressor = RandomForestRegressor(random_state=42)\n",
    "rf_regressor.fit(X_train_scaled, y_train)\n",
    "y_pred_rf = rf_regressor.predict(X_test_scaled)\n",
    "\n",
    "# Gradient Boosting Regressor\n",
    "gb_regressor = GradientBoostingRegressor(random_state=42)\n",
    "gb_regressor.fit(X_train_scaled, y_train)\n",
    "y_pred_gb = gb_regressor.predict(X_test_scaled)\n",
    "\n",
    "# CatBoost Regressor\n",
    "catboost_regressor = CatBoostRegressor(random_state=42, verbose=0)\n",
    "catboost_regressor.fit(X_train, y_train)\n",
    "y_pred_catboost = catboost_regressor.predict(X_test)\n",
    "\n",
    "# Evaluate the models\n",
    "mse_rf = mean_squared_error(y_test, y_pred_rf)\n",
    "mse_gb = mean_squared_error(y_test, y_pred_gb)\n",
    "mse_catboost = mean_squared_error(y_test, y_pred_catboost)\n",
    "\n",
    "# Convert MSE to RMSE\n",
    "rmse_rf = np.sqrt(mse_rf)\n",
    "rmse_gb = np.sqrt(mse_gb)\n",
    "rmse_catboost = np.sqrt(mse_catboost)\n",
    "\n",
    "# Calculate R-squared\n",
    "r2_rf = r2_score(y_test, y_pred_rf)\n",
    "r2_gb = r2_score(y_test, y_pred_gb)\n",
    "r2_catboost = r2_score(y_test, y_pred_catboost)\n",
    "\n",
    "print(\"Random Forest Regressor:\")\n",
    "print(\"Root Mean Squared Error:\", rmse_rf)\n",
    "print(\"R-squared:\", r2_rf)\n",
    "\n",
    "print(\"\\nGradient Boosting Regressor:\")\n",
    "print(\"Root Mean Squared Error:\", rmse_gb)\n",
    "print(\"R-squared:\", r2_gb)\n",
    "\n",
    "print(\"\\nCatBoost Regressor:\")\n",
    "print(\"Root Mean Squared Error:\", rmse_catboost)\n",
    "print(\"R-squared:\", r2_catboost)\n"
   ]
  },
  {
   "cell_type": "code",
   "execution_count": 47,
   "id": "f97878a1",
   "metadata": {},
   "outputs": [
    {
     "data": {
      "text/plain": [
       "PRICE                      2272\n",
       "LAND AREA                  2272\n",
       "ROAD ACCESS                2272\n",
       "FLOOR                      2272\n",
       "BEDROOM                    2272\n",
       "BATHROOM                   2272\n",
       "BUILT YEAR                 2272\n",
       "AMENITY_PARKING            2272\n",
       "LOCATION_Kathmandu         2272\n",
       "LOCATION_Lalitpur          2272\n",
       "AMENITY_MARBEL             2272\n",
       "AMENITY_PARQUET            2272\n",
       "AMENITY_DRINKING_WATER     2272\n",
       "AMENITY_MODULAR_KITCHEN    2272\n",
       "AMENITY_GARDEN             2272\n",
       "AMENITY_DRAINAGE           2272\n",
       "AMENITY_POWER_BACKUP       2272\n",
       "AMENITY_RESERVE_TANK       2272\n",
       "AMENITY_WATER_WELL         2272\n",
       "dtype: int64"
      ]
     },
     "execution_count": 47,
     "metadata": {},
     "output_type": "execute_result"
    }
   ],
   "source": [
    "ds.shape\n",
    "ds.count()"
   ]
  },
  {
   "cell_type": "code",
   "execution_count": 49,
   "id": "adf9d425",
   "metadata": {},
   "outputs": [
    {
     "name": "stdout",
     "output_type": "stream",
     "text": [
      "Random Forest Regressor:\n",
      "Root Mean Squared Error scores: [14294239.97667618 17173804.10418525 17076795.28567928 20108490.39925101\n",
      " 14858516.26807685]\n",
      "Root Mean Squared Error mean: 16702369.206773717\n",
      "Root Mean Squared Error std: 2057327.751103172\n",
      "R-squared scores: [0.5483785  0.62188358 0.58584428 0.48890019 0.68097723]\n",
      "R-squared mean: 0.5851967559534204\n",
      "R-squared std: 0.06503668722768274\n",
      "\n",
      "\n",
      "Gradient Boosting Regressor:\n",
      "Root Mean Squared Error scores: [13157422.55431517 16407118.87441282 16868514.73662215 19488402.20786518\n",
      " 13978911.87371901]\n",
      "Root Mean Squared Error mean: 15980074.049386868\n",
      "Root Mean Squared Error std: 2247312.711700024\n",
      "R-squared scores: [0.6173567  0.65489029 0.59588533 0.51993588 0.71763067]\n",
      "R-squared mean: 0.621139773787901\n",
      "R-squared std: 0.06533592635452848\n",
      "\n",
      "\n",
      "CatBoost Regressor:\n",
      "Root Mean Squared Error scores: [13076544.98007312 16186853.1412071  16865067.65063519 20117197.01206612\n",
      " 14292782.55922073]\n",
      "Root Mean Squared Error mean: 16107689.068640452\n",
      "Root Mean Squared Error std: 2414032.4496093257\n",
      "R-squared scores: [0.62204639 0.6640943  0.59605048 0.4884575  0.70480815]\n",
      "R-squared mean: 0.615091363181343\n",
      "R-squared std: 0.07334500723136178\n",
      "\n",
      "\n"
     ]
    }
   ],
   "source": [
    "import numpy as np\n",
    "from sklearn.model_selection import cross_val_score, KFold\n",
    "from sklearn.preprocessing import StandardScaler\n",
    "from sklearn.ensemble import RandomForestRegressor, GradientBoostingRegressor\n",
    "from catboost import CatBoostRegressor\n",
    "\n",
    "# Assuming your dataset is stored in X and y (features and target)\n",
    "# Initialize KFold with the number of desired folds\n",
    "num_folds = 5\n",
    "kf = KFold(n_splits=num_folds, shuffle=True, random_state=42)\n",
    "\n",
    "# Standardize the features (not required for tree-based models, but we'll do it for consistency)\n",
    "scaler = StandardScaler()\n",
    "X_scaled = scaler.fit_transform(X)\n",
    "\n",
    "# Random Forest Regressor\n",
    "rf_regressor = RandomForestRegressor(random_state=42)\n",
    "rf_rmse_scores = np.sqrt(-cross_val_score(rf_regressor, X_scaled, y, scoring=\"neg_mean_squared_error\", cv=kf))\n",
    "rf_r2_scores = cross_val_score(rf_regressor, X_scaled, y, scoring=\"r2\", cv=kf)\n",
    "\n",
    "# Gradient Boosting Regressor\n",
    "gb_regressor = GradientBoostingRegressor(random_state=42)\n",
    "gb_rmse_scores = np.sqrt(-cross_val_score(gb_regressor, X_scaled, y, scoring=\"neg_mean_squared_error\", cv=kf))\n",
    "gb_r2_scores = cross_val_score(gb_regressor, X_scaled, y, scoring=\"r2\", cv=kf)\n",
    "\n",
    "# CatBoost Regressor\n",
    "catboost_regressor = CatBoostRegressor(random_state=42, verbose=0)\n",
    "catboost_rmse_scores = np.sqrt(-cross_val_score(catboost_regressor, X, y, scoring=\"neg_mean_squared_error\", cv=kf))\n",
    "catboost_r2_scores = cross_val_score(catboost_regressor, X, y, scoring=\"r2\", cv=kf)\n",
    "\n",
    "def display_scores(scores,r2_scores, model_name):\n",
    "    print(f\"{model_name}:\")\n",
    "    print(\"Root Mean Squared Error scores:\", scores)\n",
    "    print(\"Root Mean Squared Error mean:\", scores.mean())\n",
    "    print(\"Root Mean Squared Error std:\", scores.std())\n",
    "\n",
    "    print(\"R-squared scores:\", r2_scores)\n",
    "    print(\"R-squared mean:\", r2_scores.mean())\n",
    "    print(\"R-squared std:\", r2_scores.std())\n",
    "    print(\"\\n\")\n",
    "\n",
    "display_scores(rf_rmse_scores, rf_r2_scores, \"Random Forest Regressor\")\n",
    "display_scores(gb_rmse_scores, gb_r2_scores, \"Gradient Boosting Regressor\")\n",
    "display_scores(catboost_rmse_scores, catboost_r2_scores, \"CatBoost Regressor\")\n"
   ]
  },
  {
   "cell_type": "code",
   "execution_count": 50,
   "id": "63f7561c",
   "metadata": {},
   "outputs": [
    {
     "name": "stdout",
     "output_type": "stream",
     "text": [
      "Random Forest Regressor Accuracy: 94.86080947483887\n",
      "Gradient Boosting Regressor Accuracy: 95.08305413865018\n",
      "CatBoost Regressor Accuracy: 95.04378797887986\n"
     ]
    }
   ],
   "source": [
    "import numpy as np\n",
    "from sklearn.model_selection import cross_val_score, KFold\n",
    "from sklearn.ensemble import RandomForestRegressor, GradientBoostingRegressor\n",
    "from catboost import CatBoostRegressor\n",
    "from sklearn.metrics import mean_squared_error\n",
    "from sklearn.preprocessing import StandardScaler\n",
    "\n",
    "# Assuming your dataset is stored in X and y (features and labels)\n",
    "\n",
    "# Initialize KFold with the number of desired folds\n",
    "num_folds = 5\n",
    "kf = KFold(n_splits=num_folds, shuffle=True, random_state=42)\n",
    "\n",
    "# Standardize the features (only required for Gradient Boosting and RandomForest, not for CatBoost)\n",
    "scaler = StandardScaler()\n",
    "X_scaled = scaler.fit_transform(X)\n",
    "\n",
    "# Random Forest Regressor\n",
    "rf_regressor = RandomForestRegressor(random_state=42)\n",
    "mse_rf = -cross_val_score(rf_regressor, X_scaled, y, scoring=\"neg_mean_squared_error\", cv=kf)\n",
    "rmse_rf = np.sqrt(mse_rf)\n",
    "accuracy_rf = 100 - (100 * rmse_rf / np.max(y))  # Normalize between 0 and 100\n",
    "print(\"Random Forest Regressor Accuracy:\", np.mean(accuracy_rf))\n",
    "\n",
    "# Gradient Boosting Regressor\n",
    "gb_regressor = GradientBoostingRegressor(random_state=42)\n",
    "mse_gb = -cross_val_score(gb_regressor, X_scaled, y, scoring=\"neg_mean_squared_error\", cv=kf)\n",
    "rmse_gb = np.sqrt(mse_gb)\n",
    "accuracy_gb = 100 - (100 * rmse_gb / np.max(y))  # Normalize between 0 and 100\n",
    "print(\"Gradient Boosting Regressor Accuracy:\", np.mean(accuracy_gb))\n",
    "\n",
    "# CatBoost Regressor\n",
    "cat_regressor = CatBoostRegressor(random_state=42, verbose=0)\n",
    "mse_cat = -cross_val_score(cat_regressor, X, y, scoring=\"neg_mean_squared_error\", cv=kf)\n",
    "rmse_cat = np.sqrt(mse_cat)\n",
    "accuracy_cat = 100 - (100 * rmse_cat / np.max(y))  # Normalize between 0 and 100\n",
    "print(\"CatBoost Regressor Accuracy:\", np.mean(accuracy_cat))\n"
   ]
  },
  {
   "cell_type": "code",
   "execution_count": 51,
   "id": "c4c65032",
   "metadata": {},
   "outputs": [],
   "source": [
    "from sklearn.model_selection import KFold, cross_val_score\n",
    "from sklearn.metrics import make_scorer, r2_score\n",
    "import sklearn.linear_model as linear_model\n",
    "\n",
    "X = ds.drop('PRICE', axis=1)\n",
    "y = ds['PRICE']\n",
    "\n",
    "def test_model(model, X_train=X, y_train=y):\n",
    "    cv = KFold(n_splits = 5, shuffle=True, random_state = 45)\n",
    "    r2 = make_scorer(r2_score)\n",
    "    r2_val_score = cross_val_score(model, X_train, y_train, cv=cv, scoring = r2)\n",
    "    score = [r2_val_score.mean()]\n",
    "    return score"
   ]
  },
  {
   "cell_type": "code",
   "execution_count": 52,
   "id": "20d9203a",
   "metadata": {},
   "outputs": [
    {
     "data": {
      "text/plain": [
       "[-739.1834956019874]"
      ]
     },
     "execution_count": 52,
     "metadata": {},
     "output_type": "execute_result"
    }
   ],
   "source": [
    "LR = linear_model.LinearRegression()\n",
    "test_model(LR)"
   ]
  },
  {
   "cell_type": "code",
   "execution_count": 53,
   "id": "bf71a73c",
   "metadata": {},
   "outputs": [
    {
     "data": {
      "text/plain": [
       "[-739.103497184562]"
      ]
     },
     "execution_count": 53,
     "metadata": {},
     "output_type": "execute_result"
    }
   ],
   "source": [
    "rdg = linear_model.Ridge()\n",
    "test_model(rdg)"
   ]
  },
  {
   "cell_type": "code",
   "execution_count": 54,
   "id": "1d0f16f0",
   "metadata": {},
   "outputs": [
    {
     "data": {
      "text/plain": [
       "[-739.1834955987027]"
      ]
     },
     "execution_count": 54,
     "metadata": {},
     "output_type": "execute_result"
    }
   ],
   "source": [
    "lasso = linear_model.Lasso(alpha=1e-4)\n",
    "test_model(lasso)"
   ]
  },
  {
   "cell_type": "code",
   "execution_count": 55,
   "id": "c37b4c21",
   "metadata": {},
   "outputs": [
    {
     "data": {
      "text/plain": [
       "[-0.08139761303075646]"
      ]
     },
     "execution_count": 55,
     "metadata": {},
     "output_type": "execute_result"
    }
   ],
   "source": [
    "from sklearn.svm import SVR\n",
    "svr_reg = SVR(kernel='rbf')\n",
    "test_model(svr_reg)"
   ]
  },
  {
   "cell_type": "code",
   "execution_count": 56,
   "id": "0b137188",
   "metadata": {},
   "outputs": [
    {
     "data": {
      "text/plain": [
       "[0.19507451934036407]"
      ]
     },
     "execution_count": 56,
     "metadata": {},
     "output_type": "execute_result"
    }
   ],
   "source": [
    "from sklearn.tree import DecisionTreeRegressor\n",
    "dt_reg = DecisionTreeRegressor(random_state=21)\n",
    "test_model(dt_reg)"
   ]
  },
  {
   "cell_type": "code",
   "execution_count": 57,
   "id": "6992cefd",
   "metadata": {},
   "outputs": [
    {
     "data": {
      "text/plain": [
       "[0.59475070061923]"
      ]
     },
     "execution_count": 57,
     "metadata": {},
     "output_type": "execute_result"
    }
   ],
   "source": [
    "from sklearn.ensemble import RandomForestRegressor\n",
    "rf_reg = RandomForestRegressor(n_estimators = 1000, random_state=51)\n",
    "test_model(rf_reg)"
   ]
  },
  {
   "cell_type": "code",
   "execution_count": 58,
   "id": "a4ee9a73",
   "metadata": {},
   "outputs": [],
   "source": [
    "from sklearn.ensemble import BaggingRegressor, GradientBoostingRegressor\n",
    "br_reg = BaggingRegressor(n_estimators=1000, random_state=51)\n",
    "gbr_reg = GradientBoostingRegressor(n_estimators=1000, learning_rate=0.1, loss='ls', random_state=51)"
   ]
  },
  {
   "cell_type": "code",
   "execution_count": 59,
   "id": "6e7b087a",
   "metadata": {},
   "outputs": [
    {
     "data": {
      "text/plain": [
       "[0.5943607310667394]"
      ]
     },
     "execution_count": 59,
     "metadata": {},
     "output_type": "execute_result"
    }
   ],
   "source": [
    "test_model(br_reg)"
   ]
  },
  {
   "cell_type": "code",
   "execution_count": 60,
   "id": "9165e2aa",
   "metadata": {},
   "outputs": [
    {
     "name": "stdout",
     "output_type": "stream",
     "text": [
      "[15:17:53] WARNING: C:\\buildkite-agent\\builds\\buildkite-windows-cpu-autoscaling-group-i-0fdc6d574b9c0d168-1\\xgboost\\xgboost-ci-windows\\src\\learner.cc:767: \n",
      "Parameters: { \"bbooster\" } are not used.\n",
      "\n",
      "[15:17:53] WARNING: C:\\buildkite-agent\\builds\\buildkite-windows-cpu-autoscaling-group-i-0fdc6d574b9c0d168-1\\xgboost\\xgboost-ci-windows\\src\\learner.cc:767: \n",
      "Parameters: { \"bbooster\" } are not used.\n",
      "\n",
      "[15:17:53] WARNING: C:\\buildkite-agent\\builds\\buildkite-windows-cpu-autoscaling-group-i-0fdc6d574b9c0d168-1\\xgboost\\xgboost-ci-windows\\src\\learner.cc:767: \n",
      "Parameters: { \"bbooster\" } are not used.\n",
      "\n",
      "[15:17:54] WARNING: C:\\buildkite-agent\\builds\\buildkite-windows-cpu-autoscaling-group-i-0fdc6d574b9c0d168-1\\xgboost\\xgboost-ci-windows\\src\\learner.cc:767: \n",
      "Parameters: { \"bbooster\" } are not used.\n",
      "\n",
      "[15:17:54] WARNING: C:\\buildkite-agent\\builds\\buildkite-windows-cpu-autoscaling-group-i-0fdc6d574b9c0d168-1\\xgboost\\xgboost-ci-windows\\src\\learner.cc:767: \n",
      "Parameters: { \"bbooster\" } are not used.\n",
      "\n"
     ]
    },
    {
     "data": {
      "text/plain": [
       "[0.5180456620866103]"
      ]
     },
     "execution_count": 60,
     "metadata": {},
     "output_type": "execute_result"
    }
   ],
   "source": [
    "import xgboost\n",
    "#xgb_reg=xgboost.XGBRegressor()\n",
    "xgb_reg = xgboost.XGBRegressor(bbooster='gbtree', random_state=51)\n",
    "test_model(xgb_reg)"
   ]
  },
  {
   "cell_type": "code",
   "execution_count": 61,
   "id": "8825a3e7",
   "metadata": {},
   "outputs": [
    {
     "data": {
      "text/plain": [
       "<Axes: >"
      ]
     },
     "execution_count": 61,
     "metadata": {},
     "output_type": "execute_result"
    },
    {
     "data": {
      "image/png": "[encoded data removed]",
      "text/plain": [
       "<Figure size 900x1600 with 1 Axes>"
      ]
     },
     "metadata": {},
     "output_type": "display_data"
    }
   ],
   "source": [
    "import matplotlib.pyplot as plt\n",
    "plt.figure(figsize=(9,16))\n",
    "corr_fetch_series = pd.Series.sort_values(X.corrwith(y))\n",
    "sns.barplot(x=corr_fetch_series, y=corr_fetch_series.index, orient = 'h')"
   ]
  },
  {
   "cell_type": "code",
   "execution_count": 62,
   "id": "5b21bd14",
   "metadata": {},
   "outputs": [],
   "source": [
    "# common_amenities = ['DRAINAGE', 'GARDEN', 'EARTHQUACK RESISTANT', 'DRINKING WATER', 'POWER BACKUP', 'RESERVE TANK', 'MODULAR KITCHEN', 'WATER WELL', 'MARBEL', 'PARQUET']\n",
    "ds = ds.drop(['AMENITY_DRAINAGE','AMENITY_DRINKING_WATER', 'AMENITY_MODULAR_KITCHEN', 'AMENITY_WATER_WELL'], axis=1)"
   ]
  },
  {
   "cell_type": "code",
   "execution_count": 63,
   "id": "4a38f498",
   "metadata": {},
   "outputs": [
    {
     "data": {
      "text/plain": [
       "['PRICE',\n",
       " 'LAND AREA',\n",
       " 'ROAD ACCESS',\n",
       " 'FLOOR',\n",
       " 'BEDROOM',\n",
       " 'BATHROOM',\n",
       " 'BUILT YEAR',\n",
       " 'AMENITY_PARKING',\n",
       " 'LOCATION_Kathmandu',\n",
       " 'LOCATION_Lalitpur',\n",
       " 'AMENITY_MARBEL',\n",
       " 'AMENITY_PARQUET',\n",
       " 'AMENITY_GARDEN',\n",
       " 'AMENITY_POWER_BACKUP',\n",
       " 'AMENITY_RESERVE_TANK']"
      ]
     },
     "execution_count": 63,
     "metadata": {},
     "output_type": "execute_result"
    }
   ],
   "source": [
    "quan = list(ds.loc[:,ds.dtypes != 'object'].columns.values)\n",
    "quan\n"
   ]
  },
  {
   "cell_type": "code",
   "execution_count": 64,
   "id": "ef900bde",
   "metadata": {},
   "outputs": [
    {
     "name": "stdout",
     "output_type": "stream",
     "text": [
      "0\n"
     ]
    }
   ],
   "source": [
    "obj_feat = list(ds.loc[:, ds.dtypes == 'object'].columns.values)\n",
    "print(len(obj_feat))"
   ]
  },
  {
   "cell_type": "code",
   "execution_count": 65,
   "id": "1b16e7cb",
   "metadata": {},
   "outputs": [],
   "source": [
    "from sklearn.model_selection import KFold, cross_val_score\n",
    "from sklearn.metrics import make_scorer, r2_score\n",
    "import sklearn.linear_model as linear_model\n",
    "\n",
    "X = ds.drop('PRICE', axis=1)\n",
    "y = ds['PRICE']\n",
    "\n",
    "def test_model(model, X_train=X, y_train=y):\n",
    "    cv = KFold(n_splits = 5, shuffle=True, random_state = 45)\n",
    "    r2 = make_scorer(r2_score)\n",
    "    r2_val_score = cross_val_score(model, X_train, y_train, cv=cv, scoring = r2)\n",
    "    score = [r2_val_score.mean()]\n",
    "    return score"
   ]
  },
  {
   "cell_type": "code",
   "execution_count": 66,
   "id": "98bec0dc",
   "metadata": {},
   "outputs": [
    {
     "data": {
      "text/plain": [
       "[-736.4254673355545]"
      ]
     },
     "execution_count": 66,
     "metadata": {},
     "output_type": "execute_result"
    }
   ],
   "source": [
    "import sklearn.linear_model as linear_model\n",
    "LR = linear_model.LinearRegression()\n",
    "test_model(LR)"
   ]
  },
  {
   "cell_type": "code",
   "execution_count": 67,
   "id": "8b39bd99",
   "metadata": {},
   "outputs": [
    {
     "data": {
      "text/plain": [
       "[-736.3594213922622]"
      ]
     },
     "execution_count": 67,
     "metadata": {},
     "output_type": "execute_result"
    }
   ],
   "source": [
    "rdg = linear_model.Ridge()\n",
    "test_model(rdg)"
   ]
  },
  {
   "cell_type": "code",
   "execution_count": 68,
   "id": "8015d072",
   "metadata": {},
   "outputs": [
    {
     "data": {
      "text/plain": [
       "[-736.4254673290677]"
      ]
     },
     "execution_count": 68,
     "metadata": {},
     "output_type": "execute_result"
    }
   ],
   "source": [
    "lasso = linear_model.Lasso(alpha=1e-4)\n",
    "test_model(lasso)"
   ]
  },
  {
   "cell_type": "code",
   "execution_count": 69,
   "id": "81342c41",
   "metadata": {},
   "outputs": [
    {
     "data": {
      "text/plain": [
       "[-0.08139761302551007]"
      ]
     },
     "execution_count": 69,
     "metadata": {},
     "output_type": "execute_result"
    }
   ],
   "source": [
    "from sklearn.svm import SVR\n",
    "svr = SVR(kernel='rbf')\n",
    "test_model(svr)"
   ]
  },
  {
   "cell_type": "code",
   "execution_count": 70,
   "id": "fdcedc60",
   "metadata": {},
   "outputs": [
    {
     "data": {
      "text/plain": [
       "-0.0893383264383846"
      ]
     },
     "execution_count": 70,
     "metadata": {},
     "output_type": "execute_result"
    }
   ],
   "source": [
    "from sklearn.model_selection import RandomizedSearchCV, GridSearchCV\n",
    "params = {'kernel': ['rbf'],\n",
    "         'gamma': [1, 0.1, 0.01, 0.001, 0.0001],\n",
    "         'C': [0.1, 1, 10, 100, 1000],\n",
    "         'epsilon': [1, 0.2, 0.1, 0.01, 0.001, 0.0001]}\n",
    "rand_search = RandomizedSearchCV(svr_reg, param_distributions=params, n_jobs=-1, cv=11)\n",
    "rand_search.fit(X, y)\n",
    "rand_search.best_score_"
   ]
  },
  {
   "cell_type": "code",
   "execution_count": 71,
   "id": "37fb7441",
   "metadata": {},
   "outputs": [
    {
     "data": {
      "text/plain": [
       "[-0.081388627309392]"
      ]
     },
     "execution_count": 71,
     "metadata": {},
     "output_type": "execute_result"
    }
   ],
   "source": [
    "svr_reg1=SVR(C=10, cache_size=200, coef0=0.0, degree=3, epsilon=0.1, gamma=0.001,\n",
    "    kernel='rbf', max_iter=-1, shrinking=True, tol=0.001, verbose=False)\n",
    "test_model(svr_reg1)"
   ]
  },
  {
   "cell_type": "code",
   "execution_count": 72,
   "id": "0e845077",
   "metadata": {},
   "outputs": [
    {
     "data": {
      "text/plain": [
       "[-0.08138673780546815]"
      ]
     },
     "execution_count": 72,
     "metadata": {},
     "output_type": "execute_result"
    }
   ],
   "source": [
    "svr_reg= SVR(C=100, cache_size=200, coef0=0.0, degree=3, epsilon=0.01, gamma=0.0001,\n",
    "    kernel='rbf', max_iter=-1, shrinking=True, tol=0.001, verbose=False)\n",
    "test_model(svr_reg)"
   ]
  },
  {
   "cell_type": "code",
   "execution_count": 73,
   "id": "35a69618",
   "metadata": {},
   "outputs": [
    {
     "name": "stdout",
     "output_type": "stream",
     "text": [
      "[15:18:09] WARNING: C:\\buildkite-agent\\builds\\buildkite-windows-cpu-autoscaling-group-i-0fdc6d574b9c0d168-1\\xgboost\\xgboost-ci-windows\\src\\learner.cc:767: \n",
      "Parameters: { \"mon_child_weight\" } are not used.\n",
      "\n",
      "[15:18:09] WARNING: C:\\buildkite-agent\\builds\\buildkite-windows-cpu-autoscaling-group-i-0fdc6d574b9c0d168-1\\xgboost\\xgboost-ci-windows\\src\\learner.cc:767: \n",
      "Parameters: { \"mon_child_weight\" } are not used.\n",
      "\n",
      "[15:18:09] WARNING: C:\\buildkite-agent\\builds\\buildkite-windows-cpu-autoscaling-group-i-0fdc6d574b9c0d168-1\\xgboost\\xgboost-ci-windows\\src\\learner.cc:767: \n",
      "Parameters: { \"mon_child_weight\" } are not used.\n",
      "\n",
      "[15:18:09] WARNING: C:\\buildkite-agent\\builds\\buildkite-windows-cpu-autoscaling-group-i-0fdc6d574b9c0d168-1\\xgboost\\xgboost-ci-windows\\src\\learner.cc:767: \n",
      "Parameters: { \"mon_child_weight\" } are not used.\n",
      "\n",
      "[15:18:10] WARNING: C:\\buildkite-agent\\builds\\buildkite-windows-cpu-autoscaling-group-i-0fdc6d574b9c0d168-1\\xgboost\\xgboost-ci-windows\\src\\learner.cc:767: \n",
      "Parameters: { \"mon_child_weight\" } are not used.\n",
      "\n"
     ]
    },
    {
     "data": {
      "text/plain": [
       "[0.6104278205572212]"
      ]
     },
     "execution_count": 73,
     "metadata": {},
     "output_type": "execute_result"
    }
   ],
   "source": [
    "xgb2_reg=xgboost.XGBRegressor(n_estimators= 90,\n",
    " mon_child_weight= 2,\n",
    " max_depth= 4,\n",
    " learning_rate= 0.05,\n",
    " booster= 'gbtree')\n",
    "\n",
    "test_model(xgb2_reg)"
   ]
  },
  {
   "cell_type": "code",
   "execution_count": 74,
   "id": "ea052164",
   "metadata": {},
   "outputs": [
    {
     "data": {
      "text/plain": [
       "[0.5918213601409443]"
      ]
     },
     "execution_count": 74,
     "metadata": {},
     "output_type": "execute_result"
    }
   ],
   "source": [
    "from sklearn.ensemble import RandomForestRegressor\n",
    "rf_reg = RandomForestRegressor(n_estimators = 1000, random_state=51)\n",
    "test_model(rf_reg)"
   ]
  },
  {
   "cell_type": "code",
   "execution_count": 75,
   "id": "58369b9a",
   "metadata": {},
   "outputs": [],
   "source": [
    "from sklearn.ensemble import BaggingRegressor, GradientBoostingRegressor\n",
    "br_reg = BaggingRegressor(n_estimators=1000, random_state=51)\n"
   ]
  },
  {
   "cell_type": "code",
   "execution_count": 76,
   "id": "c3b55648",
   "metadata": {},
   "outputs": [
    {
     "data": {
      "text/plain": [
       "[0.5919315174918195]"
      ]
     },
     "execution_count": 76,
     "metadata": {},
     "output_type": "execute_result"
    }
   ],
   "source": [
    "test_model(br_reg)"
   ]
  },
  {
   "cell_type": "code",
   "execution_count": 77,
   "id": "f64791c8",
   "metadata": {},
   "outputs": [
    {
     "data": {
      "text/plain": [
       "[0.5702579145207866]"
      ]
     },
     "execution_count": 77,
     "metadata": {},
     "output_type": "execute_result"
    }
   ],
   "source": [
    "from catboost import CatBoostRegressor\n",
    "catboost_regressor = CatBoostRegressor(random_state=42, verbose=0)\n",
    "test_model(catboost_regressor)"
   ]
  },
  {
   "cell_type": "code",
   "execution_count": null,
   "id": "07714205",
   "metadata": {},
   "outputs": [],
   "source": []
  },
  {
   "cell_type": "code",
   "execution_count": null,
   "id": "95034915",
   "metadata": {},
   "outputs": [],
   "source": []
  }
 ],
 "metadata": {
  "kernelspec": {
   "display_name": "Python 3 (ipykernel)",
   "language": "python",
   "name": "python3"
  },
  "language_info": {
   "codemirror_mode": {
    "name": "ipython",
    "version": 3
   },
   "file_extension": ".py",
   "mimetype": "text/x-python",
   "name": "python",
   "nbconvert_exporter": "python",
   "pygments_lexer": "ipython3",
   "version": "3.11.0"
  }
 },
 "nbformat": 4,
 "nbformat_minor": 5
}
